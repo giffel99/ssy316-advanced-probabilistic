{
 "cells": [
  {
   "cell_type": "code",
   "execution_count": 16,
   "metadata": {},
   "outputs": [],
   "source": [
    "import pandas as pd\n",
    "import numpy as np\n",
    "from scipy import optimize\n",
    "import scipy as sc\n",
    "from sklearn.discriminant_analysis import LinearDiscriminantAnalysis\n",
    "from sklearn.model_selection import train_test_split\n",
    "from sklearn.linear_model import LogisticRegression\n",
    "import matplotlib.pyplot as plt\n",
    "%matplotlib inline\n",
    "from sklearn.metrics import accuracy_score, log_loss, roc_curve, roc_auc_score \n",
    "import statsmodels.api as sm"
   ]
  },
  {
   "cell_type": "markdown",
   "metadata": {},
   "source": [
    "### Logistic Regression via Maximum Likelihood\n",
    "\n",
    "Model directly the probability $p(y|x)$ for binary data $y \\in \\{0,1\\}$ for some covariates $X$. There is no closed form for the MLE but we can solve approximately with an optimizer"
   ]
  },
  {
   "cell_type": "markdown",
   "metadata": {},
   "source": [
    "#### Breast Cancer Survival Data\n",
    "\n",
    "The dataset contains cases from a study that was conducted between\n",
    "   1958 and 1970 at the University of Chicago's Billings Hospital on\n",
    "   the survival of patients who had undergone surgery for breast\n",
    "   cancer.\n",
    "\n",
    "\n",
    "Four columns \n",
    "\n",
    "1. Age of patient at time of operation (numerical)\n",
    "2. Patient's year of operation (year - 1900, numerical)\n",
    "3. Number of positive axillary nodes detected (numerical)\n",
    "4. Survival status (class attribute)\n",
    "     1 = the patient survived 5 years or longer\n",
    "     2 = the patient died within 5 year\n",
    "\n",
    "See more info at the UCI repository [page](https://archive.ics.uci.edu/ml/machine-learning-databases/haberman/haberman.names). "
   ]
  },
  {
   "cell_type": "code",
   "execution_count": 17,
   "metadata": {},
   "outputs": [
    {
     "data": {
      "text/html": [
       "<div>\n",
       "<style scoped>\n",
       "    .dataframe tbody tr th:only-of-type {\n",
       "        vertical-align: middle;\n",
       "    }\n",
       "\n",
       "    .dataframe tbody tr th {\n",
       "        vertical-align: top;\n",
       "    }\n",
       "\n",
       "    .dataframe thead th {\n",
       "        text-align: right;\n",
       "    }\n",
       "</style>\n",
       "<table border=\"1\" class=\"dataframe\">\n",
       "  <thead>\n",
       "    <tr style=\"text-align: right;\">\n",
       "      <th></th>\n",
       "      <th>age</th>\n",
       "      <th>year</th>\n",
       "      <th>nodes_detected</th>\n",
       "      <th>survival_status</th>\n",
       "    </tr>\n",
       "  </thead>\n",
       "  <tbody>\n",
       "    <tr>\n",
       "      <th>0</th>\n",
       "      <td>30</td>\n",
       "      <td>64</td>\n",
       "      <td>1</td>\n",
       "      <td>1</td>\n",
       "    </tr>\n",
       "    <tr>\n",
       "      <th>1</th>\n",
       "      <td>30</td>\n",
       "      <td>62</td>\n",
       "      <td>3</td>\n",
       "      <td>1</td>\n",
       "    </tr>\n",
       "    <tr>\n",
       "      <th>2</th>\n",
       "      <td>30</td>\n",
       "      <td>65</td>\n",
       "      <td>0</td>\n",
       "      <td>1</td>\n",
       "    </tr>\n",
       "    <tr>\n",
       "      <th>3</th>\n",
       "      <td>31</td>\n",
       "      <td>59</td>\n",
       "      <td>2</td>\n",
       "      <td>1</td>\n",
       "    </tr>\n",
       "    <tr>\n",
       "      <th>4</th>\n",
       "      <td>31</td>\n",
       "      <td>65</td>\n",
       "      <td>4</td>\n",
       "      <td>1</td>\n",
       "    </tr>\n",
       "  </tbody>\n",
       "</table>\n",
       "</div>"
      ],
      "text/plain": [
       "   age  year  nodes_detected  survival_status\n",
       "0   30    64               1                1\n",
       "1   30    62               3                1\n",
       "2   30    65               0                1\n",
       "3   31    59               2                1\n",
       "4   31    65               4                1"
      ]
     },
     "execution_count": 17,
     "metadata": {},
     "output_type": "execute_result"
    }
   ],
   "source": [
    "url_hospital = \"https://archive.ics.uci.edu/ml/machine-learning-databases/haberman/haberman.data\"\n",
    "data1 = pd.read_csv(url_hospital, header=None,\n",
    "        names=['age', 'year', 'nodes_detected', 'survival_status'])\n",
    "data1.head()"
   ]
  },
  {
   "cell_type": "markdown",
   "metadata": {},
   "source": [
    "Split data for training and test."
   ]
  },
  {
   "cell_type": "code",
   "execution_count": 18,
   "metadata": {},
   "outputs": [],
   "source": [
    "# define data and create train test splits\n",
    "data1['y'] = data1.survival_status.replace(2, 0).values\n",
    "n = len(data1['y'])\n",
    "data1['x0'] = np.ones(n)\n",
    "predictors = ['x0','age','nodes_detected','year']\n",
    "target = ['y']\n",
    "X_train, X_test, y_train, y_test = train_test_split(data1[predictors], data1[target],\n",
    "                        test_size=0.33, random_state=1)\n",
    "n,p = X_train.shape"
   ]
  },
  {
   "cell_type": "markdown",
   "metadata": {},
   "source": [
    "#### MLE using an optimizer\n",
    "\n",
    "The accompanying chapter in **Bishop is 4.3.2**.\n",
    "\n",
    "In our setting we have a binary (2-class) classification problem with a sample size $n$. Our date consistts of pairs of labels and features $\\{(y_1,x_1), \\ldots, (y_n,x_n)\\}$ where $y_i \\in \\{0,1\\}$ and $x_i \\in R^m$. We are interested in the probability $p(y=1|x)$.\n",
    "\n",
    "The logistic regression model uses the logistic function $\\sigma(\\cdot) : (-\\infty, -\\infty) \\rightarrow  (0,1) $ (also known as sigmoid)\n",
    "$$\\sigma(x) =\\big( \\frac{1}{1+e^{-x}} \\big)$$\n",
    "\n",
    "\n",
    "Note that the inverse of the the logistic function $\\sigma(\\cdot)^{-1}$, in the sense of their composition equaling the identity map, is the logit function $$\\text{logit}(a) = \\log\\big( \\frac{a}{1-a} \\big)$$\n",
    "\n",
    "Specifically, in the context of logistic regression, the function we need is the following\n",
    "\n",
    "$$\n",
    "\\sigma(x, \\beta) = \\big( \\frac{1}{1+e^{-x \\beta}} \\big)\n",
    "$$\n",
    "\n",
    "which we implement below."
   ]
  },
  {
   "cell_type": "code",
   "execution_count": 19,
   "metadata": {
    "scrolled": true
   },
   "outputs": [],
   "source": [
    "def sigma(x,beta):\n",
    "    d = 1. + np.exp(-x.dot(beta))\n",
    "    return d**(-1)"
   ]
  },
  {
   "cell_type": "markdown",
   "metadata": {},
   "source": [
    "The Logistic Regression likelihood is given by the following formula\n",
    "\n",
    "\\begin{align}\n",
    "p( y=1| \\beta,x) &= \\prod_{i=1}^n f(x_n,\\beta)^{y_n} \\cdot [1-f(x_n,\\beta)]^{(1-y_n)} \\\\\n",
    "&= \\prod_{i=1}^n f_n^{y_n} \\cdot (1-f_n)^{(1-y_n)} \\\\\n",
    "\\end{align}\n",
    "\n",
    "where we define for convenience of notation $f_n := f(x_n,\\beta)$ .\n",
    "\n",
    "Hence the negative log-likelihood (NLL) becomes\n",
    "\\begin{align}\n",
    "\\log p( y=1| \\beta,x) &= \\sum_{i=1}^n \\{ y_n \\log f_n + (1-y_n) \\log(1-f_n) \\}\n",
    "\\end{align}\n",
    "which we code as a function below"
   ]
  },
  {
   "cell_type": "code",
   "execution_count": 20,
   "metadata": {},
   "outputs": [],
   "source": [
    "def nll(beta, x, y):\n",
    "    t = y.T.dot(np.log(sigma(x,beta)))+ (1-y).T.dot(np.log(1.-sigma(x,beta)))\n",
    "    return -t"
   ]
  },
  {
   "cell_type": "markdown",
   "metadata": {},
   "source": [
    "Next we will find the MLE by minimising the negagive log-likelihood using the **Newton-Raphson** algorithm. This algorithm required the gradient ($f^{\\prime}$) and the Hessian matrix. Below we provide these functions."
   ]
  },
  {
   "cell_type": "code",
   "execution_count": 21,
   "metadata": {},
   "outputs": [],
   "source": [
    "#function to find Hessian\n",
    "def fprime(beta,x,y):\n",
    "    return  x.T.dot(sigma(x,beta)-y)\n",
    "def Hessian(beta,x):  \n",
    "    S = np.diag(sigma(x,beta)*(1-sigma(x,beta)))\n",
    "    hes = x.T.dot(S.dot(x))\n",
    "    return hes\n",
    "def NewtonRaphsonLogistReg(beta0,x,y,maxiter,tolerance):\n",
    "    i = 0\n",
    "    beta = beta0\n",
    "    NegLogLike = nll(beta,x,y)\n",
    "    AbDiff = 1; #anything bigger than tolerance would do here\n",
    "    while (AbDiff> tolerance) & (i<maxiter):\n",
    "        i =i+1;\n",
    "        print('iteration ',i,' Negative Log likelihood ',NegLogLike, ' AbDiff ', AbDiff)\n",
    "        grad = fprime(beta,x,y)\n",
    "        H = Hessian(beta,x)\n",
    "        H_inv = sc.linalg.inv(H) \n",
    "        beta = beta - H_inv.dot(grad)\n",
    "        NegLogLike_new = nll(beta,x,y)\n",
    "        AbDiff = np.abs(NegLogLike_new-NegLogLike)\n",
    "        NegLogLike = NegLogLike_new\n",
    "    if (iter == maxiter):\n",
    "        print('Did not Converge') \n",
    "    return beta, H_inv"
   ]
  },
  {
   "cell_type": "markdown",
   "metadata": {},
   "source": [
    "Now, apply these functions to our data to obtain the coefficents of MLE."
   ]
  },
  {
   "cell_type": "code",
   "execution_count": 22,
   "metadata": {},
   "outputs": [
    {
     "name": "stdout",
     "output_type": "stream",
     "text": [
      "iteration  1  Negative Log likelihood  142.09517201478883  AbDiff  1\n",
      "iteration  2  Negative Log likelihood  109.36069127012013  AbDiff  32.7344807446687\n",
      "iteration  3  Negative Log likelihood  108.78065092148671  AbDiff  0.5800403486334176\n",
      "iteration  4  Negative Log likelihood  108.77859955619098  AbDiff  0.0020513652957276918\n",
      "iteration  5  Negative Log likelihood  108.77859951829444  AbDiff  3.789654101638007e-08\n"
     ]
    }
   ],
   "source": [
    "X = X_train[['x0','age','nodes_detected']]\n",
    "y = y_train['y']\n",
    "n,p = X.shape\n",
    "beta0 = np.zeros(p)\n",
    "beta_mle, cov = NewtonRaphsonLogistReg(beta0,X,y,maxiter=10,tolerance=1e-08)\n"
   ]
  },
  {
   "cell_type": "markdown",
   "metadata": {},
   "source": [
    "We will also compute 95% confidence intervals by using the Hessian which is the inverse of the MLE covariance. We will present the results via a pandas data frame"
   ]
  },
  {
   "cell_type": "code",
   "execution_count": 23,
   "metadata": {},
   "outputs": [
    {
     "data": {
      "text/html": [
       "<div>\n",
       "<style scoped>\n",
       "    .dataframe tbody tr th:only-of-type {\n",
       "        vertical-align: middle;\n",
       "    }\n",
       "\n",
       "    .dataframe tbody tr th {\n",
       "        vertical-align: top;\n",
       "    }\n",
       "\n",
       "    .dataframe thead th {\n",
       "        text-align: right;\n",
       "    }\n",
       "</style>\n",
       "<table border=\"1\" class=\"dataframe\">\n",
       "  <thead>\n",
       "    <tr style=\"text-align: right;\">\n",
       "      <th></th>\n",
       "      <th>coefficient</th>\n",
       "      <th>se</th>\n",
       "      <th>lower 95% bound</th>\n",
       "      <th>upper 95% bound</th>\n",
       "    </tr>\n",
       "  </thead>\n",
       "  <tbody>\n",
       "    <tr>\n",
       "      <th>intercept</th>\n",
       "      <td>0.881483</td>\n",
       "      <td>0.862608</td>\n",
       "      <td>-0.809229</td>\n",
       "      <td>2.572194</td>\n",
       "    </tr>\n",
       "    <tr>\n",
       "      <th>age</th>\n",
       "      <td>0.010840</td>\n",
       "      <td>0.016164</td>\n",
       "      <td>-0.020841</td>\n",
       "      <td>0.042521</td>\n",
       "    </tr>\n",
       "    <tr>\n",
       "      <th>nodes_detected</th>\n",
       "      <td>-0.101423</td>\n",
       "      <td>0.026230</td>\n",
       "      <td>-0.152834</td>\n",
       "      <td>-0.050012</td>\n",
       "    </tr>\n",
       "  </tbody>\n",
       "</table>\n",
       "</div>"
      ],
      "text/plain": [
       "                coefficient        se  lower 95% bound  upper 95% bound\n",
       "intercept          0.881483  0.862608        -0.809229         2.572194\n",
       "age                0.010840  0.016164        -0.020841         0.042521\n",
       "nodes_detected    -0.101423  0.026230        -0.152834        -0.050012"
      ]
     },
     "execution_count": 23,
     "metadata": {},
     "output_type": "execute_result"
    }
   ],
   "source": [
    "#Invert for the covariance and find 95% CIs\n",
    "#cov = sc.linalg.inv(H)\n",
    "se = np.sqrt(np.diag(cov))\n",
    "lower95 = beta_mle - 1.96*se\n",
    "upper95 = beta_mle + 1.96*se\n",
    "\n",
    "#present the output via a pandas data frame\n",
    "results = np.column_stack([beta_mle,se,lower95,upper95])\n",
    "col = ['coefficient','se','lower 95% bound','upper 95% bound']\n",
    "ind = ['intercept','age','nodes_detected']\n",
    "results = pd.DataFrame(results,columns = col,index=ind)\n",
    "results"
   ]
  },
  {
   "cell_type": "markdown",
   "metadata": {},
   "source": [
    "To confirm we got it right we will also check with the function Logit from the statsmodels library"
   ]
  },
  {
   "cell_type": "code",
   "execution_count": 24,
   "metadata": {},
   "outputs": [
    {
     "name": "stdout",
     "output_type": "stream",
     "text": [
      "Optimization terminated successfully.\n",
      "         Current function value: 0.530627\n",
      "         Iterations 5\n"
     ]
    },
    {
     "name": "stderr",
     "output_type": "stream",
     "text": [
      "c:\\Users\\Per_A\\anaconda3\\lib\\site-packages\\statsmodels\\tsa\\tsatools.py:142: FutureWarning: In a future version of pandas all arguments of concat except for the argument 'objs' will be keyword-only\n",
      "  x = pd.concat(x[::order], 1)\n"
     ]
    },
    {
     "data": {
      "text/html": [
       "<table class=\"simpletable\">\n",
       "<caption>Logit Regression Results</caption>\n",
       "<tr>\n",
       "  <th>Dep. Variable:</th>           <td>y</td>        <th>  No. Observations:  </th>  <td>   205</td>  \n",
       "</tr>\n",
       "<tr>\n",
       "  <th>Model:</th>                 <td>Logit</td>      <th>  Df Residuals:      </th>  <td>   202</td>  \n",
       "</tr>\n",
       "<tr>\n",
       "  <th>Method:</th>                 <td>MLE</td>       <th>  Df Model:          </th>  <td>     2</td>  \n",
       "</tr>\n",
       "<tr>\n",
       "  <th>Date:</th>            <td>Fri, 17 Nov 2023</td> <th>  Pseudo R-squ.:     </th>  <td>0.07973</td> \n",
       "</tr>\n",
       "<tr>\n",
       "  <th>Time:</th>                <td>11:03:30</td>     <th>  Log-Likelihood:    </th> <td> -108.78</td> \n",
       "</tr>\n",
       "<tr>\n",
       "  <th>converged:</th>             <td>True</td>       <th>  LL-Null:           </th> <td> -118.20</td> \n",
       "</tr>\n",
       "<tr>\n",
       "  <th>Covariance Type:</th>     <td>nonrobust</td>    <th>  LLR p-value:       </th> <td>8.076e-05</td>\n",
       "</tr>\n",
       "</table>\n",
       "<table class=\"simpletable\">\n",
       "<tr>\n",
       "         <td></td>           <th>coef</th>     <th>std err</th>      <th>z</th>      <th>P>|z|</th>  <th>[0.025</th>    <th>0.975]</th>  \n",
       "</tr>\n",
       "<tr>\n",
       "  <th>const</th>          <td>    0.8815</td> <td>    0.863</td> <td>    1.022</td> <td> 0.307</td> <td>   -0.809</td> <td>    2.572</td>\n",
       "</tr>\n",
       "<tr>\n",
       "  <th>age</th>            <td>    0.0108</td> <td>    0.016</td> <td>    0.671</td> <td> 0.502</td> <td>   -0.021</td> <td>    0.043</td>\n",
       "</tr>\n",
       "<tr>\n",
       "  <th>nodes_detected</th> <td>   -0.1014</td> <td>    0.026</td> <td>   -3.867</td> <td> 0.000</td> <td>   -0.153</td> <td>   -0.050</td>\n",
       "</tr>\n",
       "</table>"
      ],
      "text/plain": [
       "<class 'statsmodels.iolib.summary.Summary'>\n",
       "\"\"\"\n",
       "                           Logit Regression Results                           \n",
       "==============================================================================\n",
       "Dep. Variable:                      y   No. Observations:                  205\n",
       "Model:                          Logit   Df Residuals:                      202\n",
       "Method:                           MLE   Df Model:                            2\n",
       "Date:                Fri, 17 Nov 2023   Pseudo R-squ.:                 0.07973\n",
       "Time:                        11:03:30   Log-Likelihood:                -108.78\n",
       "converged:                       True   LL-Null:                       -118.20\n",
       "Covariance Type:            nonrobust   LLR p-value:                 8.076e-05\n",
       "==================================================================================\n",
       "                     coef    std err          z      P>|z|      [0.025      0.975]\n",
       "----------------------------------------------------------------------------------\n",
       "const              0.8815      0.863      1.022      0.307      -0.809       2.572\n",
       "age                0.0108      0.016      0.671      0.502      -0.021       0.043\n",
       "nodes_detected    -0.1014      0.026     -3.867      0.000      -0.153      -0.050\n",
       "==================================================================================\n",
       "\"\"\""
      ]
     },
     "execution_count": 24,
     "metadata": {},
     "output_type": "execute_result"
    }
   ],
   "source": [
    "predictors = ['age','nodes_detected']\n",
    "Xt = X_train[predictors]\n",
    "Xt = sm.add_constant(Xt)\n",
    "yt = y_train['y']\n",
    "model = sm.Logit(yt, Xt).fit()\n",
    "model.summary()"
   ]
  },
  {
   "cell_type": "markdown",
   "metadata": {},
   "source": [
    "The function LogisticRegression from sklearn can also be used. It is more robust and efficient for large datasets"
   ]
  },
  {
   "cell_type": "code",
   "execution_count": 25,
   "metadata": {},
   "outputs": [
    {
     "name": "stdout",
     "output_type": "stream",
     "text": [
      "[ 0.8813341   0.01083727 -0.10135341]\n"
     ]
    }
   ],
   "source": [
    "predictors = ['age','nodes_detected']\n",
    "Xt = X_train[predictors]\n",
    "logreg = LogisticRegression(fit_intercept=True,solver='lbfgs')\n",
    "logreg.fit(Xt,yt)\n",
    "intercept = np.array([logreg.intercept_])[0,]\n",
    "coef = np.array(logreg.coef_)[0,].T\n",
    "beta_mle = np.hstack((intercept,coef))\n",
    "print(beta_mle)"
   ]
  },
  {
   "cell_type": "markdown",
   "metadata": {},
   "source": [
    "### Laplace Approximation (Bishop 4.5)\n",
    "\n",
    "Bayesian Logistic Regression is not availabe in a closed form. One method is to use a Laplace approximation according to which we approximate the posterior $p(\\beta | x, y)$ with a Gaussian. The Gaussian distribution is characterised by two parameters, the mean and the covariance. The mean $\\beta_{\\text{MAP}}$ is given by the MAP of the unormalized likelihood times prior, while the covariance is the Hessian evaluated $\\beta_{\\text{MAP}}$. \n",
    "\n",
    "The posterior is given by equation 4.141 and 4.142 which we implement below\n",
    "\n",
    "Assume a Gaussian prior and get the following approximate posterior \n",
    "\n",
    "\\begin{align}\n",
    "\\beta & \\sim N(m_0, S_0^{-1}) \\; \\text{(prior)}\\\\\n",
    "p(\\beta|x,y) & \\sim  N(\\hat{\\beta}, S^{-1})  \\; \\text{(posterior)}\n",
    "\\end{align}\n",
    "\n",
    "where\n",
    "\\begin{align}\n",
    "\\beta_{\\text{MAP}} & = \\text{argmin}_{\\beta} \\log p(\\beta|y,x), \\; \\log p(\\beta|y,x) = \\log p(y|\\beta,x) + \\log p(\\beta) \\\\\n",
    "S & = -\\nabla^2 \\log p(\\beta|y,x) |_{\\beta_{\\text{MAP}}}\n",
    "\\end{align}"
   ]
  },
  {
   "cell_type": "code",
   "execution_count": 26,
   "metadata": {},
   "outputs": [],
   "source": [
    "def neg_post(beta, x, y, m0, S0):\n",
    "    logprior =  - .5* (beta-m0).T @ S0 @ (beta-m0)\n",
    "    return  nll(beta, x, y) -  logprior\n",
    "def neg_post_prime(beta, x, y, m0, S0):\n",
    "    return  x.T.dot(sigma(x,beta)-y)+S0.dot(beta-m0)\n",
    "def laplace_prec(beta, x, S0):\n",
    "    n = x.shape[0]  \n",
    "    S = np.diag(sigma(x,beta)*(1-sigma(x,beta)))\n",
    "    prec = S0.values + x.T.dot(S.dot(x))    \n",
    "    return prec\n",
    "def NewtonRaphsonBayesLogReg(beta0,x,y,m0,S0,maxiter,tolerance):\n",
    "    i = 0\n",
    "    beta = beta0\n",
    "    NegLogPost = neg_post(beta, x, y, m0, S0)\n",
    "    AbDiff = 1; #anything bigger than tolerance would do here\n",
    "    while (AbDiff> tolerance) & (i<maxiter):\n",
    "        i =i+1;\n",
    "        print('iteration ',i,' Negative Log Posterior ',NegLogPost, ' AbDiff ', AbDiff)\n",
    "        grad = neg_post_prime(beta, x, y, m0, S0)\n",
    "        H = laplace_prec(beta, x, S0)\n",
    "        H_inv = sc.linalg.inv(H) \n",
    "        beta = beta - H_inv.dot(grad)\n",
    "        NegLogPost_new = neg_post(beta, x, y, m0, S0)\n",
    "        AbDiff = np.abs(NegLogPost_new-NegLogPost)\n",
    "        NegLogPost = NegLogPost_new\n",
    "    if (iter == maxiter):\n",
    "        print('Did not Converge') \n",
    "    return beta, H_inv"
   ]
  },
  {
   "cell_type": "code",
   "execution_count": 27,
   "metadata": {},
   "outputs": [
    {
     "name": "stdout",
     "output_type": "stream",
     "text": [
      "iteration  1  Negative Log Posterior  142.09517201478883  AbDiff  1\n",
      "iteration  2  Negative Log Posterior  110.07931941344916  AbDiff  32.015852601339674\n",
      "iteration  3  Negative Log Posterior  109.5791441584225  AbDiff  0.5001752550266616\n",
      "iteration  4  Negative Log Posterior  109.57778845744726  AbDiff  0.0013557009752389604\n",
      "[ 0.86367753  0.01035354 -0.09807053]\n"
     ]
    },
    {
     "data": {
      "text/plain": [
       "array([[ 7.10946923e-01, -1.29492538e-02, -2.77955038e-03],\n",
       "       [-1.29492538e-02,  2.49096668e-04,  1.74790814e-06],\n",
       "       [-2.77955038e-03,  1.74790814e-06,  6.54412084e-04]])"
      ]
     },
     "execution_count": 27,
     "metadata": {},
     "output_type": "execute_result"
    }
   ],
   "source": [
    "predictors = ['x0','age','nodes_detected']\n",
    "Xt = X_train[predictors]\n",
    "n,p = Xt.shape\n",
    "m0 = np.zeros(p)\n",
    "S0 = Xt.T.dot(Xt)/n\n",
    "beta0 = np.zeros(p)\n",
    "tolerance = 1e-05\n",
    "maxiter = 100 \n",
    "beta_map, cov = NewtonRaphsonBayesLogReg(beta0,Xt, y_train['y'],\n",
    "                                                  m0,S0,maxiter,tolerance)\n",
    "print(beta_map)\n",
    "cov"
   ]
  },
  {
   "cell_type": "code",
   "execution_count": 28,
   "metadata": {},
   "outputs": [
    {
     "data": {
      "text/html": [
       "<div>\n",
       "<style scoped>\n",
       "    .dataframe tbody tr th:only-of-type {\n",
       "        vertical-align: middle;\n",
       "    }\n",
       "\n",
       "    .dataframe tbody tr th {\n",
       "        vertical-align: top;\n",
       "    }\n",
       "\n",
       "    .dataframe thead th {\n",
       "        text-align: right;\n",
       "    }\n",
       "</style>\n",
       "<table border=\"1\" class=\"dataframe\">\n",
       "  <thead>\n",
       "    <tr style=\"text-align: right;\">\n",
       "      <th></th>\n",
       "      <th>post mean</th>\n",
       "      <th>post se</th>\n",
       "      <th>lower 95% bound</th>\n",
       "      <th>upper 95% bound</th>\n",
       "    </tr>\n",
       "  </thead>\n",
       "  <tbody>\n",
       "    <tr>\n",
       "      <th>intercept</th>\n",
       "      <td>0.863678</td>\n",
       "      <td>0.843177</td>\n",
       "      <td>-0.788949</td>\n",
       "      <td>2.516304</td>\n",
       "    </tr>\n",
       "    <tr>\n",
       "      <th>age</th>\n",
       "      <td>0.010354</td>\n",
       "      <td>0.015783</td>\n",
       "      <td>-0.020581</td>\n",
       "      <td>0.041288</td>\n",
       "    </tr>\n",
       "    <tr>\n",
       "      <th>nodes_detected</th>\n",
       "      <td>-0.098071</td>\n",
       "      <td>0.025581</td>\n",
       "      <td>-0.148210</td>\n",
       "      <td>-0.047931</td>\n",
       "    </tr>\n",
       "  </tbody>\n",
       "</table>\n",
       "</div>"
      ],
      "text/plain": [
       "                post mean   post se  lower 95% bound  upper 95% bound\n",
       "intercept        0.863678  0.843177        -0.788949         2.516304\n",
       "age              0.010354  0.015783        -0.020581         0.041288\n",
       "nodes_detected  -0.098071  0.025581        -0.148210        -0.047931"
      ]
     },
     "execution_count": 28,
     "metadata": {},
     "output_type": "execute_result"
    }
   ],
   "source": [
    "#95% credible intervals\n",
    "se = np.sqrt(np.diag(cov))\n",
    "lower95 = beta_map - 1.96*se\n",
    "upper95 = beta_map + 1.96*se\n",
    "\n",
    "#present the output via a pandas data frame\n",
    "results = np.column_stack([beta_map,se,lower95,upper95])\n",
    "col = ['post mean','post se','lower 95% bound','upper 95% bound']\n",
    "ind = ['intercept','age','nodes_detected']\n",
    "results = pd.DataFrame(results,columns = col,index=ind)\n",
    "results"
   ]
  },
  {
   "cell_type": "markdown",
   "metadata": {},
   "source": [
    "### Activity 1\n",
    "\n",
    "Consider the model that also has the variable year as a covariate. Provide the ouput from the MLE and Bayesian (via Laplace approximation) approaches. "
   ]
  },
  {
   "cell_type": "markdown",
   "metadata": {},
   "source": [
    "### Answer\n",
    "\n",
    "Put your code below"
   ]
  },
  {
   "cell_type": "code",
   "execution_count": 33,
   "metadata": {},
   "outputs": [
    {
     "name": "stdout",
     "output_type": "stream",
     "text": [
      "iteration  1  Negative Log Posterior  142.09517201478883  AbDiff  1\n",
      "iteration  2  Negative Log Posterior  109.89202949052194  AbDiff  32.203142524266894\n",
      "iteration  3  Negative Log Posterior  109.36716255058094  AbDiff  0.524866939940992\n",
      "iteration  4  Negative Log Posterior  109.36560794841179  AbDiff  0.0015546021691505985\n",
      "iteration  1  Negative Log likelihood  142.09517201478883  AbDiff  1\n",
      "iteration  2  Negative Log likelihood  109.16795352219995  AbDiff  32.92721849258888\n",
      "iteration  3  Negative Log likelihood  108.55913096132062  AbDiff  0.6088225608793323\n",
      "iteration  4  Negative Log likelihood  108.55677521560668  AbDiff  0.0023557457139418148\n",
      "beta_map:  [ 2.86938586  0.01155773 -0.0967656  -0.0329501 ]\n",
      "beta_mle:  [ 2.9804248   0.01209946 -0.1000678  -0.03447624]\n"
     ]
    },
    {
     "data": {
      "text/html": [
       "<div>\n",
       "<style scoped>\n",
       "    .dataframe tbody tr th:only-of-type {\n",
       "        vertical-align: middle;\n",
       "    }\n",
       "\n",
       "    .dataframe tbody tr th {\n",
       "        vertical-align: top;\n",
       "    }\n",
       "\n",
       "    .dataframe thead th {\n",
       "        text-align: right;\n",
       "    }\n",
       "</style>\n",
       "<table border=\"1\" class=\"dataframe\">\n",
       "  <thead>\n",
       "    <tr style=\"text-align: right;\">\n",
       "      <th></th>\n",
       "      <th>post mean</th>\n",
       "      <th>post se</th>\n",
       "      <th>lower 95% bound</th>\n",
       "      <th>upper 95% bound</th>\n",
       "    </tr>\n",
       "  </thead>\n",
       "  <tbody>\n",
       "    <tr>\n",
       "      <th>intercept</th>\n",
       "      <td>2.869386</td>\n",
       "      <td>3.197866</td>\n",
       "      <td>-3.398432</td>\n",
       "      <td>9.137204</td>\n",
       "    </tr>\n",
       "    <tr>\n",
       "      <th>age</th>\n",
       "      <td>0.011558</td>\n",
       "      <td>0.015924</td>\n",
       "      <td>-0.019653</td>\n",
       "      <td>0.042768</td>\n",
       "    </tr>\n",
       "    <tr>\n",
       "      <th>nodes_detected</th>\n",
       "      <td>-0.096766</td>\n",
       "      <td>0.025600</td>\n",
       "      <td>-0.146941</td>\n",
       "      <td>-0.046590</td>\n",
       "    </tr>\n",
       "    <tr>\n",
       "      <th>year</th>\n",
       "      <td>-0.032950</td>\n",
       "      <td>0.050625</td>\n",
       "      <td>-0.132174</td>\n",
       "      <td>0.066274</td>\n",
       "    </tr>\n",
       "  </tbody>\n",
       "</table>\n",
       "</div>"
      ],
      "text/plain": [
       "                post mean   post se  lower 95% bound  upper 95% bound\n",
       "intercept        2.869386  3.197866        -3.398432         9.137204\n",
       "age              0.011558  0.015924        -0.019653         0.042768\n",
       "nodes_detected  -0.096766  0.025600        -0.146941        -0.046590\n",
       "year            -0.032950  0.050625        -0.132174         0.066274"
      ]
     },
     "execution_count": 33,
     "metadata": {},
     "output_type": "execute_result"
    }
   ],
   "source": [
    "predictors = ['x0','age','nodes_detected','year']\n",
    "Xt = X_train[predictors]\n",
    "n,p = Xt.shape\n",
    "m0 = np.zeros(p)\n",
    "S0 = Xt.T.dot(Xt)/n\n",
    "beta0 = np.zeros(p)\n",
    "tolerance = 1e-05\n",
    "maxiter = 100 \n",
    "beta_map, cov_map = NewtonRaphsonBayesLogReg(beta0, Xt, y_train['y'], m0,S0,maxiter,tolerance)\n",
    "beta_mle, cov_mle = NewtonRaphsonLogistReg(beta0, Xt, y_train['y'], maxiter,tolerance)\n",
    "\n",
    "print('beta_map: ',beta_map)\n",
    "print('beta_mle: ',beta_mle)\n",
    "\n",
    "#95% credible intervals\n",
    "se = np.sqrt(np.diag(cov_map))\n",
    "lower95 = beta_map - 1.96*se\n",
    "upper95 = beta_map + 1.96*se\n",
    "\n",
    "#present the output via a pandas data frame\n",
    "results = np.column_stack([beta_map,se,lower95,upper95])\n",
    "col = ['post mean','post se','lower 95% bound','upper 95% bound']\n",
    "ind = ['intercept','age','nodes_detected', 'year']\n",
    "results = pd.DataFrame(results,columns = col,index=ind)\n",
    "results\n"
   ]
  },
  {
   "cell_type": "markdown",
   "metadata": {},
   "source": [
    "### Evaluate predictive performance for Logistic regression"
   ]
  },
  {
   "cell_type": "code",
   "execution_count": 34,
   "metadata": {},
   "outputs": [
    {
     "data": {
      "text/plain": [
       "(y   -115.315475\n",
       " dtype: float64,\n",
       " y   -119.227327\n",
       " dtype: float64)"
      ]
     },
     "execution_count": 34,
     "metadata": {},
     "output_type": "execute_result"
    }
   ],
   "source": [
    "#Calculate model evidence and BIC\n",
    "predictors = ['x0','age','nodes_detected', 'year']\n",
    "Xt = X_train[predictors]\n",
    "n,p = Xt.shape\n",
    "logEv = -neg_post(beta_map, Xt, y_train, m0, S0) + (p/2)*np.log(2*np.pi) + (1/2)*np.log(sc.linalg.det(cov))\n",
    "BIC = -nll(beta_map, Xt, y_train) -(p/2)*np.log(n)\n",
    "logEv, BIC"
   ]
  },
  {
   "cell_type": "code",
   "execution_count": 35,
   "metadata": {},
   "outputs": [
    {
     "name": "stdout",
     "output_type": "stream",
     "text": [
      "0.7227722772277227 y    59.437452\n",
      "dtype: float64\n",
      "0.7227722772277227 59.437452161910066\n",
      "0.5813313313313314\n"
     ]
    },
    {
     "data": {
      "image/png": "[encoded data removed]",
      "text/plain": [
       "<Figure size 432x288 with 1 Axes>"
      ]
     },
     "metadata": {
      "needs_background": "light"
     },
     "output_type": "display_data"
    }
   ],
   "source": [
    "#prediction assessment for MLE approach\n",
    "\n",
    "predict_probs = sigma(X_test[predictors],beta_mle)\n",
    "predict_class = (predict_probs > .5)\n",
    "\n",
    "AccRate_MLE = np.sum(predict_class==y_test['y'])/len(y_test) \n",
    "LS_MLE = -(y_test.T.dot(np.log(predict_probs))+(1-y_test).T.dot(np.log(1-predict_probs)))\n",
    "\n",
    "print(AccRate_MLE, LS_MLE)\n",
    "print(accuracy_score(y_test,predict_class), log_loss(y_test, predict_probs, normalize=False))\n",
    "\n",
    "fpr,tpr,thresholds = roc_curve(y_test,predict_probs)\n",
    "xgrid = np.linspace(0,1,100) \n",
    "plt.plot(fpr,tpr)\n",
    "plt.plot(xgrid,xgrid,'red')\n",
    "AUC_MLE = roc_auc_score(y_test,predict_probs)\n",
    "print(AUC_MLE)"
   ]
  },
  {
   "cell_type": "code",
   "execution_count": 39,
   "metadata": {},
   "outputs": [
    {
     "data": {
      "text/plain": [
       "[<matplotlib.lines.Line2D at 0x188b245c1f0>]"
      ]
     },
     "execution_count": 39,
     "metadata": {},
     "output_type": "execute_result"
    },
    {
     "data": {
      "image/png": "[encoded data removed]",
      "text/plain": [
       "<Figure size 432x288 with 1 Axes>"
      ]
     },
     "metadata": {
      "needs_background": "light"
     },
     "output_type": "display_data"
    }
   ],
   "source": [
    "#Calculate the prediction probabilities with Bayesian Logistic regression\n",
    "\n",
    "N = 10000 #number of Monte Carlo samples\n",
    "# draw N samples from the approximate posterior (Laplace) of beta\n",
    "betas = np.random.multivariate_normal(beta_map,cov_map,N)\n",
    "Xbetas = X_test[predictors].dot(betas.T)\n",
    "#apply sigmoid\n",
    "d = 1/(1. + np.exp(-Xbetas))\n",
    "pred_probs_blr = np.mean(d, axis=1)\n",
    "plt.plot(pred_probs_blr,'.')\n",
    "plt.plot(predict_probs,'.')"
   ]
  },
  {
   "cell_type": "code",
   "execution_count": 40,
   "metadata": {},
   "outputs": [
    {
     "name": "stdout",
     "output_type": "stream",
     "text": [
      "0.7227722772277227 y    58.822565\n",
      "dtype: float64 0.5823323323323324\n",
      "0.7227722772277227 y    59.437452\n",
      "dtype: float64 0.5813313313313314\n"
     ]
    },
    {
     "data": {
      "image/png": "[encoded data removed]",
      "text/plain": [
       "<Figure size 432x288 with 1 Axes>"
      ]
     },
     "metadata": {
      "needs_background": "light"
     },
     "output_type": "display_data"
    }
   ],
   "source": [
    "#Evaluate predictive performance of Bayesian Logistic Regression\n",
    "\n",
    "pred_class_blr = (pred_probs_blr > .5)\n",
    "\n",
    "AccRate = np.sum(pred_class_blr==y_test['y'])/len(y_test) \n",
    "LS = -(y_test.T.dot(np.log(pred_probs_blr))+(1-y_test).T.dot(np.log(1-pred_probs_blr)))\n",
    "\n",
    "fpr,tpr,thresholds = roc_curve(y_test,pred_probs_blr)\n",
    "xgrid = np.linspace(0,1,100) \n",
    "plt.plot(fpr,tpr)\n",
    "plt.plot(xgrid,xgrid,'red')\n",
    "AUC = roc_auc_score(y_test,pred_probs_blr)\n",
    "print(AccRate, LS, AUC)\n",
    "print(AccRate_MLE, LS_MLE, AUC_MLE)"
   ]
  },
  {
   "cell_type": "markdown",
   "metadata": {},
   "source": [
    "### Activity 2\n",
    "\n",
    "Consider 2 logistic regression models: \n",
    "\n",
    " - M1: with covariates *age* and *nodes detected*.\n",
    " - M2: with covariates *year*, *age* and *nodes detected*.\n",
    " \n",
    "  a. Compare them using the log-evidence, the BIC, the area under the ROC curve and the log scoring rule.\n",
    "  \n",
    "  b. Discuss the differences in predicted probabilities from MLE and Bayesian models."
   ]
  },
  {
   "cell_type": "markdown",
   "metadata": {},
   "source": [
    "### Answer\n",
    "\n",
    "Put your code below"
   ]
  },
  {
   "cell_type": "code",
   "execution_count": 69,
   "metadata": {},
   "outputs": [
    {
     "name": "stdout",
     "output_type": "stream",
     "text": [
      "iteration  1  Negative Log Posterior  142.09517201478883  AbDiff  1\n",
      "iteration  2  Negative Log Posterior  110.07931941344916  AbDiff  32.015852601339674\n",
      "iteration  3  Negative Log Posterior  109.5791441584225  AbDiff  0.5001752550266616\n",
      "iteration  4  Negative Log Posterior  109.57778845744726  AbDiff  0.0013557009752389604\n",
      "iteration  1  Negative Log Posterior  142.09517201478883  AbDiff  1\n",
      "iteration  2  Negative Log Posterior  109.89202949052194  AbDiff  32.203142524266894\n",
      "iteration  3  Negative Log Posterior  109.36716255058094  AbDiff  0.524866939940992\n",
      "iteration  4  Negative Log Posterior  109.36560794841179  AbDiff  0.0015546021691505985\n",
      "y   -116.787092\n",
      "dtype: float64\n",
      "y   -119.227327\n",
      "dtype: float64\n",
      "m1:  0.5903403403403404\n",
      "m2:  0.5813313313313314\n",
      "m1:  0.5823323323323324\n",
      "m2:  0.5823323323323324\n"
     ]
    },
    {
     "data": {
      "image/png": "[encoded data removed]",
      "text/plain": [
       "<Figure size 432x288 with 1 Axes>"
      ]
     },
     "metadata": {
      "needs_background": "light"
     },
     "output_type": "display_data"
    }
   ],
   "source": [
    "m1_predictors = ['x0','age','nodes_detected']\n",
    "m2_predictors = ['x0','age','nodes_detected','year']\n",
    "\n",
    "m1_X = X_train[m1_predictors]\n",
    "m2_X = X_train[m2_predictors]\n",
    "\n",
    "m1_n,m1_p = m1_X.shape\n",
    "m2_n,m2_p = m2_X.shape\n",
    "\n",
    "m1_m0 = np.zeros(m1_p)\n",
    "m2_m0 = np.zeros(m2_p)\n",
    "\n",
    "m1_S0 = m1_X.T.dot(m1_X)/m1_n\n",
    "m2_S0 = m2_X.T.dot(m2_X)/m2_n\n",
    "\n",
    "m1_beta0 = np.zeros(m1_p)\n",
    "m2_beta0 = np.zeros(m2_p)\n",
    "\n",
    "tolerance = 1e-05\n",
    "maxiter = 100 \n",
    "\n",
    "m1_beta, m1_cov = NewtonRaphsonBayesLogReg(m1_beta0, m1_X, y_train['y'], m1_m0, m1_S0, maxiter, tolerance)\n",
    "m2_beta, m2_cov = NewtonRaphsonBayesLogReg(m2_beta0, m2_X, y_train['y'], m2_m0, m2_S0, maxiter, tolerance)\n",
    "\n",
    "\n",
    "# evaluation\n",
    "m1_logEv = -neg_post(m1_beta, m1_X, y_train, m1_m0, m1_S0) + (m1_p/2)*np.log(2*np.pi) + (1/2)*np.log(sc.linalg.det(m1_cov))\n",
    "m1_BIC = -nll(m1_beta, m1_X, y_train) -(m1_p/2)*np.log(m1_n)\n",
    "print(m1_BIC)\n",
    "m2_logEv = -neg_post(m2_beta, m2_X, y_train, m2_m0, m2_S0) + (m2_p/2)*np.log(2*np.pi) + (1/2)*np.log(sc.linalg.det(m2_cov))\n",
    "m2_BIC = -nll(m2_beta, m2_X, y_train) -(m2_p/2)*np.log(m2_n)\n",
    "print(m2_BIC)\n",
    "\n",
    "# Area under ROC\n",
    "m1_predict_probs = sigma(X_test[m1_predictors],m1_beta)\n",
    "m1_predict_class = (m1_predict_probs > .5)\n",
    "m1_AccRate_MLE = np.sum(m1_predict_class==y_test['y'])/len(y_test) \n",
    "m1_LS_MLE = -(y_test.T.dot(np.log(m1_predict_probs))+(1-y_test).T.dot(np.log(1-m1_predict_probs)))\n",
    "m1_fpr,m1_tpr,m1_thresholds = roc_curve(y_test,m1_predict_probs)\n",
    "xgrid = np.linspace(0,1,100) \n",
    "m1_AUC_MLE = roc_auc_score(y_test,m1_predict_probs)\n",
    "plt.plot(m1_fpr,m1_tpr, c=\"green\",label=\"m1_\")\n",
    "print(\"m1: \",m1_AUC_MLE)\n",
    "\n",
    "# Area under ROC\n",
    "m2_predict_probs = sigma(X_test[m2_predictors],m2_beta)\n",
    "m2_predict_class = (m2_predict_probs > .5)\n",
    "m2_AccRate_MLE = np.sum(m2_predict_class==y_test['y'])/len(y_test) \n",
    "m2_LS_MLE = -(y_test.T.dot(np.log(m2_predict_probs))+(1-y_test).T.dot(np.log(1-m2_predict_probs)))\n",
    "m2_fpr,m2_tpr,m2_thresholds = roc_curve(y_test,m2_predict_probs)\n",
    "xgrid = np.linspace(0,1,100) \n",
    "m2_AUC_MLE = roc_auc_score(y_test,m2_predict_probs)\n",
    "plt.plot(m2_fpr,m2_tpr, c=\"violet\")\n",
    "\n",
    "print(\"m2: \",m2_AUC_MLE)\n",
    "\n",
    "\n",
    "N = 10000 #number of Monte Carlo samples\n",
    "# draw N samples from the approximate posterior (Laplace) of beta\n",
    "m1_betas = np.random.multivariate_normal(m1_beta,m1_cov,N)\n",
    "m1_Xbetas = X_test[m1_predictors].dot(m1_betas.T)\n",
    "#apply sigmoid\n",
    "m1_d = 1/(1. + np.exp(-m1_Xbetas))\n",
    "m1_pred_probs_blr = np.mean(m1_d, axis=1)\n",
    "m1_pred_class_blr = (m1_pred_probs_blr > .5)\n",
    "m1_AccRate = np.sum(m1_pred_class_blr==y_test['y'])/len(y_test) \n",
    "m1_LS = -(y_test.T.dot(np.log(m1_pred_probs_blr))+(1-y_test).T.dot(np.log(1-m1_pred_probs_blr)))\n",
    "m1_fpr,m1_tpr,m1_thresholds = roc_curve(y_test,m1_pred_probs_blr)\n",
    "xgrid = np.linspace(0,1,100) \n",
    "plt.plot(m1_fpr,m1_tpr, c=\"blue\")\n",
    "plt.plot(xgrid,xgrid,'red')\n",
    "m1_AUC = roc_auc_score(y_test,pred_probs_blr)\n",
    "print(\"m1: \", m1_AUC)\n",
    "\n",
    "\n",
    "N = 10000 #number of Monte Carlo samples\n",
    "# draw N samples from the approximate posterior (Laplace) of beta\n",
    "m2_betas = np.random.multivariate_normal(m2_beta,m2_cov,N)\n",
    "m2_Xbetas = X_test[m2_predictors].dot(m2_betas.T)\n",
    "#apply sigmoid\n",
    "m2_d = 1/(1. + np.exp(-m2_Xbetas))\n",
    "m2_pred_probs_blr = np.mean(m2_d, axis=1)\n",
    "m2_pred_class_blr = (m2_pred_probs_blr > .5)\n",
    "m2_AccRate = np.sum(m2_pred_class_blr==y_test['y'])/len(y_test) \n",
    "m2_LS = -(y_test.T.dot(np.log(m2_pred_probs_blr))+(1-y_test).T.dot(np.log(1-m2_pred_probs_blr)))\n",
    "m2_fpr,m2_tpr,m2_thresholds = roc_curve(y_test,m2_pred_probs_blr)\n",
    "xgrid = np.linspace(0,1,100) \n",
    "plt.plot(m2_fpr,m2_tpr, c=\"yellow\")\n",
    "m2_AUC = roc_auc_score(y_test,pred_probs_blr)\n",
    "print(\"m2: \",m2_AUC)\n"
   ]
  },
  {
   "cell_type": "markdown",
   "metadata": {},
   "source": [
    "## Discussion\n",
    "\n",
    "From what we can see the model with more predictors perform better though both performed similarly, it could mean that \"year\" provide some valuable information to determine survivability of breast cancer. The MLE focuses on finding a point estimate that maximises the likelihood whereas bayesian focus on optimizing the weights among all possible parameters."
   ]
  },
  {
   "cell_type": "markdown",
   "metadata": {},
   "source": [
    "### Linear Discriminant Analysis\n",
    "\n",
    "Compute the classification probability $p(y=1|x)$ by modeling the joint probability $p(y,x)$. That's called a generative model. "
   ]
  },
  {
   "cell_type": "markdown",
   "metadata": {},
   "source": [
    "#### Train/Test split"
   ]
  },
  {
   "cell_type": "code",
   "execution_count": 70,
   "metadata": {},
   "outputs": [],
   "source": [
    "# define data and create train test splits\n",
    "X = data1.loc[:,['age', 'nodes_detected']].values\n",
    "y = data1.survival_status.replace(2, 0).values.astype(int)\n",
    "X_train, X_test, y_train, y_test = train_test_split(X, y,\n",
    "                        test_size=0.33, random_state=1)"
   ]
  },
  {
   "cell_type": "code",
   "execution_count": 71,
   "metadata": {},
   "outputs": [
    {
     "data": {
      "text/plain": [
       "(205, 2)"
      ]
     },
     "execution_count": 71,
     "metadata": {},
     "output_type": "execute_result"
    }
   ],
   "source": [
    "X_train.shape"
   ]
  },
  {
   "cell_type": "markdown",
   "metadata": {},
   "source": [
    "We will first present a solution using `sklearn`. The following simple commands suffice to train a Linear Discriminant Analysis classifier using the `sklearn` (also known as sci-kit package).\n",
    "\n",
    "In our setting we have a binary (2-class) classification problem with a sample size $n$. Our date consistts of pairs of labels and features $\\{(y_1,x_1), \\ldots, (y_n,x_n)\\}$ where $y_i \\in \\{0,1\\}$ and $x_i \\in R^m$. We are interested in the probability $p(y=1|x)$.\n",
    "\n",
    "The formulas used are the following equations in Bishop\n",
    "\n",
    "* Prior probability of class 0 : 4.73\n",
    "* Mean of features 4.75, 4.76\n",
    "* Covariance matrix 4.78\n",
    "\n",
    "which are implemented by the sklearn package."
   ]
  },
  {
   "cell_type": "code",
   "execution_count": 72,
   "metadata": {},
   "outputs": [
    {
     "data": {
      "text/plain": [
       "(array([[51.7037037 ,  7.12962963],\n",
       "        [52.87417219,  2.37086093]]),\n",
       " array([0.26341463, 0.73658537]),\n",
       " array([[1.08692042e+02, 7.86362521e-02],\n",
       "        [7.86362521e-02, 4.02113384e+01]]))"
      ]
     },
     "execution_count": 72,
     "metadata": {},
     "output_type": "execute_result"
    }
   ],
   "source": [
    "clf = LinearDiscriminantAnalysis(solver='lsqr',store_covariance=True)\n",
    "clf.fit(X_train, y_train)\n",
    "clf.means_, clf.priors_, clf.covariance_"
   ]
  },
  {
   "cell_type": "markdown",
   "metadata": {},
   "source": [
    "We can also predict the class of new individuals based on their $X$'s"
   ]
  },
  {
   "cell_type": "code",
   "execution_count": 73,
   "metadata": {},
   "outputs": [
    {
     "data": {
      "text/plain": [
       "(101, 2)"
      ]
     },
     "execution_count": 73,
     "metadata": {},
     "output_type": "execute_result"
    }
   ],
   "source": [
    "pred_probs_lda = clf.predict_proba(X_test)\n",
    "pred_probs_lda.shape"
   ]
  },
  {
   "cell_type": "markdown",
   "metadata": {},
   "source": [
    "Essentially we only need the probability of y=1 (2nd column). Probability of y=0 is just one minus that."
   ]
  },
  {
   "cell_type": "code",
   "execution_count": 74,
   "metadata": {},
   "outputs": [],
   "source": [
    "pred_probs_lda = pred_probs_lda[:,1]"
   ]
  },
  {
   "cell_type": "markdown",
   "metadata": {},
   "source": [
    "### Activity 3\n",
    "\n",
    "Fit logistic regression and LDA models on the training data and evaluate their predictive performance (ROC, area under the ROC, log score) on the test data. Use *year*, *age* and *nodes_detected* as covariates."
   ]
  },
  {
   "cell_type": "markdown",
   "metadata": {},
   "source": [
    "### Answer\n",
    "\n",
    "Put your code below"
   ]
  },
  {
   "cell_type": "code",
   "execution_count": 75,
   "metadata": {},
   "outputs": [],
   "source": [
    "# define data and create train test splits\n",
    "X = data1.loc[:,['age', 'nodes_detected','year']].values\n",
    "y = data1.survival_status.replace(2, 0).values.astype(int)\n",
    "X_train, X_test, y_train, y_test = train_test_split(X, y,\n",
    "                        test_size=0.33, random_state=1)"
   ]
  },
  {
   "cell_type": "code",
   "execution_count": 83,
   "metadata": {},
   "outputs": [
    {
     "data": {
      "text/plain": [
       "(205, 3)"
      ]
     },
     "execution_count": 83,
     "metadata": {},
     "output_type": "execute_result"
    }
   ],
   "source": [
    "X_train.shape"
   ]
  },
  {
   "cell_type": "code",
   "execution_count": 100,
   "metadata": {},
   "outputs": [
    {
     "name": "stdout",
     "output_type": "stream",
     "text": [
      "iteration  1  Negative Log likelihood  142.09517201478883  AbDiff  1\n",
      "iteration  2  Negative Log likelihood  109.56343131939893  AbDiff  32.5317406953899\n",
      "iteration  3  Negative Log likelihood  108.975480952867  AbDiff  0.5879503665319277\n",
      "iteration  4  Negative Log likelihood  108.9732880228565  AbDiff  0.002192930010508576\n",
      "iteration  5  Negative Log likelihood  108.9732879776047  AbDiff  4.525179519987432e-08\n"
     ]
    },
    {
     "data": {
      "text/plain": [
       "[<matplotlib.lines.Line2D at 0x188b2a44f40>]"
      ]
     },
     "execution_count": 100,
     "metadata": {},
     "output_type": "execute_result"
    },
    {
     "data": {
      "image/png": "[encoded data removed]",
      "text/plain": [
       "<Figure size 432x288 with 1 Axes>"
      ]
     },
     "metadata": {
      "needs_background": "light"
     },
     "output_type": "display_data"
    }
   ],
   "source": [
    "n,p = X.shape\n",
    "beta0 = np.zeros(p)\n",
    "beta_mle, cov = NewtonRaphsonLogistReg(beta0,X_train,y_train,maxiter=100,tolerance=1e-08)\n",
    "LR_predict_probs = sigma(X_test,beta_mle)\n",
    "LR_predict_probs.shape\n",
    "\n",
    "fpr,tpr,thresholds = roc_curve(y_test,LR_predict_probs)\n",
    "plt.plot(fpr,tpr, 'blue')\n",
    "\n",
    "clf = LinearDiscriminantAnalysis(solver='lsqr',store_covariance=True)\n",
    "clf.fit(X_train, y_train)\n",
    "clf.means_, clf.priors_, clf.covariance_\n",
    "pred_probs_lda = clf.predict_proba(X_test)\n",
    "pred_probs_lda = pred_probs_lda[:,1] \n",
    "pred_probs_lda.shape\n",
    "\n",
    "fpr,tpr,thresholds = roc_curve(y_test,pred_probs_lda)\n",
    "plt.plot(fpr,tpr, 'red')\n"
   ]
  },
  {
   "cell_type": "code",
   "execution_count": null,
   "metadata": {},
   "outputs": [],
   "source": []
  }
 ],
 "metadata": {
  "kernelspec": {
   "display_name": "Python 3 (ipykernel)",
   "language": "python",
   "name": "python3"
  },
  "language_info": {
   "codemirror_mode": {
    "name": "ipython",
    "version": 3
   },
   "file_extension": ".py",
   "mimetype": "text/x-python",
   "name": "python",
   "nbconvert_exporter": "python",
   "pygments_lexer": "ipython3",
   "version": "3.9.7"
  }
 },
 "nbformat": 4,
 "nbformat_minor": 4
}
