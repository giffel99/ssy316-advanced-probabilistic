{
 "cells": [
  {
   "cell_type": "markdown",
   "metadata": {},
   "source": [
    "# Gaussian Mixture models"
   ]
  },
  {
   "cell_type": "code",
   "execution_count": 1,
   "metadata": {},
   "outputs": [],
   "source": [
    "import matplotlib.pyplot as plt\n",
    "%matplotlib inline\n",
    "import pandas as pd\n",
    "import numpy as np\n",
    "\n",
    "from sklearn import datasets\n",
    "from sklearn.mixture import GaussianMixture\n",
    "from sklearn.mixture import BayesianGaussianMixture\n",
    "\n",
    "from sklearn.preprocessing import StandardScaler\n"
   ]
  },
  {
   "cell_type": "markdown",
   "metadata": {},
   "source": [
    "### Load the Iris dataset\n",
    "\n",
    "The Iris Dataset. This data sets consists of 3 different types of irises' (Setosa, Versicolour, and Virginica) petal and sepal length, stored in a 150x4 numpy.ndarray. The rows being the samples and the columns being: Sepal Length, Sepal Width, Petal Length and Petal Width. The below plot uses the first two features."
   ]
  },
  {
   "cell_type": "code",
   "execution_count": 2,
   "metadata": {},
   "outputs": [
    {
     "name": "stdout",
     "output_type": "stream",
     "text": [
      "(150, 4)\n"
     ]
    },
    {
     "data": {
      "text/html": [
       "<div>\n",
       "<style scoped>\n",
       "    .dataframe tbody tr th:only-of-type {\n",
       "        vertical-align: middle;\n",
       "    }\n",
       "\n",
       "    .dataframe tbody tr th {\n",
       "        vertical-align: top;\n",
       "    }\n",
       "\n",
       "    .dataframe thead th {\n",
       "        text-align: right;\n",
       "    }\n",
       "</style>\n",
       "<table border=\"1\" class=\"dataframe\">\n",
       "  <thead>\n",
       "    <tr style=\"text-align: right;\">\n",
       "      <th></th>\n",
       "      <th>sepal length (cm)</th>\n",
       "      <th>sepal width (cm)</th>\n",
       "      <th>petal length (cm)</th>\n",
       "      <th>petal width (cm)</th>\n",
       "    </tr>\n",
       "  </thead>\n",
       "  <tbody>\n",
       "    <tr>\n",
       "      <th>0</th>\n",
       "      <td>5.1</td>\n",
       "      <td>3.5</td>\n",
       "      <td>1.4</td>\n",
       "      <td>0.2</td>\n",
       "    </tr>\n",
       "    <tr>\n",
       "      <th>1</th>\n",
       "      <td>4.9</td>\n",
       "      <td>3.0</td>\n",
       "      <td>1.4</td>\n",
       "      <td>0.2</td>\n",
       "    </tr>\n",
       "    <tr>\n",
       "      <th>2</th>\n",
       "      <td>4.7</td>\n",
       "      <td>3.2</td>\n",
       "      <td>1.3</td>\n",
       "      <td>0.2</td>\n",
       "    </tr>\n",
       "    <tr>\n",
       "      <th>3</th>\n",
       "      <td>4.6</td>\n",
       "      <td>3.1</td>\n",
       "      <td>1.5</td>\n",
       "      <td>0.2</td>\n",
       "    </tr>\n",
       "    <tr>\n",
       "      <th>4</th>\n",
       "      <td>5.0</td>\n",
       "      <td>3.6</td>\n",
       "      <td>1.4</td>\n",
       "      <td>0.2</td>\n",
       "    </tr>\n",
       "  </tbody>\n",
       "</table>\n",
       "</div>"
      ],
      "text/plain": [
       "   sepal length (cm)  sepal width (cm)  petal length (cm)  petal width (cm)\n",
       "0                5.1               3.5                1.4               0.2\n",
       "1                4.9               3.0                1.4               0.2\n",
       "2                4.7               3.2                1.3               0.2\n",
       "3                4.6               3.1                1.5               0.2\n",
       "4                5.0               3.6                1.4               0.2"
      ]
     },
     "execution_count": 2,
     "metadata": {},
     "output_type": "execute_result"
    }
   ],
   "source": [
    "iris = datasets.load_iris()\n",
    "#next we import it into a pandas frame for convenience (not necessry)\n",
    "pdiris = pd.DataFrame(iris.data, columns=iris.feature_names)\n",
    "print(pdiris.shape)\n",
    "pdiris.head()"
   ]
  },
  {
   "cell_type": "markdown",
   "metadata": {},
   "source": [
    "### Plots \n",
    "\n",
    "Below we will see some 2d plots just to get a feel of the data. There appears to be some clustering but it is hard to infer the number of clusters of the 4d datasets from 2d plots. "
   ]
  },
  {
   "cell_type": "code",
   "execution_count": 3,
   "metadata": {},
   "outputs": [
    {
     "data": {
      "text/plain": [
       "Text(0, 0.5, 'petal length (cm)')"
      ]
     },
     "execution_count": 3,
     "metadata": {},
     "output_type": "execute_result"
    },
    {
     "data": {
      "image/png": "[encoded data removed]",
      "text/plain": [
       "<Figure size 432x288 with 1 Axes>"
      ]
     },
     "metadata": {
      "needs_background": "light"
     },
     "output_type": "display_data"
    }
   ],
   "source": [
    "plt.plot(pdiris['sepal length (cm)'], pdiris['petal length (cm)'], 'o')\n",
    "plt.xlabel('sepal length (cm)')\n",
    "plt.ylabel('petal length (cm)')"
   ]
  },
  {
   "cell_type": "code",
   "execution_count": 4,
   "metadata": {},
   "outputs": [
    {
     "data": {
      "text/plain": [
       "Text(0, 0.5, 'petal width (cm)')"
      ]
     },
     "execution_count": 4,
     "metadata": {},
     "output_type": "execute_result"
    },
    {
     "data": {
      "image/png": "[encoded data removed]",
      "text/plain": [
       "<Figure size 640x480 with 1 Axes>"
      ]
     },
     "metadata": {},
     "output_type": "display_data"
    }
   ],
   "source": [
    "plt.plot(pdiris['sepal width (cm)'], pdiris['petal width (cm)'], 'o')\n",
    "plt.xlabel('sepal width (cm)')\n",
    "plt.ylabel('petal width (cm)')"
   ]
  },
  {
   "cell_type": "markdown",
   "metadata": {},
   "source": [
    "### Fitting GMMs using the EM algorithm\n",
    "\n",
    "The code for doing so is given below. The '.fit' bit obtains the maximum likelihood estimations of means and covariances that can be viewed using '.means_' and '.covariances_'\n",
    "\n",
    "We start by inspecting and visualisibg a 2-d dataset with only the 'sepal width (cm)' and 'petal width (cm)' variables. The full dataset is analysed afterwards"
   ]
  },
  {
   "cell_type": "code",
   "execution_count": 4,
   "metadata": {},
   "outputs": [
    {
     "name": "stdout",
     "output_type": "stream",
     "text": [
      "[[3.44312706 0.24524535]\n",
      " [2.8682708  1.66689483]]\n",
      "\n",
      "\n",
      "[[[0.12543252 0.01006202]\n",
      "  [0.01006202 0.01098207]]\n",
      "\n",
      " [[0.11104185 0.08380788]\n",
      "  [0.08380788 0.18987438]]]\n"
     ]
    }
   ],
   "source": [
    "vars = ['sepal width (cm)','petal width (cm)']\n",
    "gmm = GaussianMixture(n_components=2)\n",
    "gmm.fit(pdiris[vars])\n",
    "print(gmm.means_)\n",
    "print('\\n')\n",
    "print(gmm.covariances_)"
   ]
  },
  {
   "cell_type": "markdown",
   "metadata": {},
   "source": [
    "### Soft allocation of individuals to clusters\n",
    "\n",
    "GMM method does not necesarily allocates individuals with certainty but with probabilities.\n",
    "\n",
    "Adding the probabilities can give as an ideas of how many objects each cluster has."
   ]
  },
  {
   "cell_type": "code",
   "execution_count": 5,
   "metadata": {},
   "outputs": [
    {
     "name": "stdout",
     "output_type": "stream",
     "text": [
      "[ 49.29382506 100.70617494]\n",
      "[[1.    0.   ]\n",
      " [1.    0.   ]\n",
      " [0.999 0.001]\n",
      " [1.    0.   ]\n",
      " [1.    0.   ]\n",
      " [1.    0.   ]\n",
      " [1.    0.   ]\n",
      " [1.    0.   ]\n",
      " [1.    0.   ]\n",
      " [1.    0.   ]\n",
      " [1.    0.   ]\n",
      " [1.    0.   ]\n",
      " [1.    0.   ]\n",
      " [1.    0.   ]\n",
      " [1.    0.   ]\n",
      " [1.    0.   ]\n",
      " [1.    0.   ]\n",
      " [1.    0.   ]\n",
      " [1.    0.   ]\n",
      " [1.    0.   ]\n",
      " [0.3   0.7  ]\n",
      " [1.    0.   ]\n",
      " [0.997 0.003]\n",
      " [1.    0.   ]\n",
      " [1.    0.   ]\n",
      " [1.    0.   ]\n",
      " [1.    0.   ]\n",
      " [1.    0.   ]\n",
      " [1.    0.   ]]\n"
     ]
    }
   ],
   "source": [
    "probs = gmm.predict_proba(pdiris[vars])\n",
    "print(np.sum(probs,axis=0))\n",
    "print(probs[21:50].round(3))"
   ]
  },
  {
   "cell_type": "markdown",
   "metadata": {},
   "source": [
    "### Model Search\n",
    "\n",
    "We need to fit models wiht different numbers of cluster and different type of covariance matrices to identify the best one. This is done via the information-theoretic criteria (BIC) (the smaller the better in this case)\n",
    "\n",
    "Types of covariance matrices:\n",
    " - spherical: each cluster k has covariance $\\sigma^2_k I$\n",
    " - tied: full covariance matrix but the same across clusters\n",
    " - diag: diagonal covariance matrix, different for each cluster\n",
    " - full: full covariance matrix, different for each cluster\n",
    " \n",
    " \n",
    "### Activity 1\n",
    " Write your code in the following cell. It is recommended to save your output in a Panda dataframe and print mean and covaiance of the best GMM."
   ]
  },
  {
   "cell_type": "code",
   "execution_count": 49,
   "metadata": {},
   "outputs": [
    {
     "name": "stdout",
     "output_type": "stream",
     "text": [
      "The best combination:  2 full\n"
     ]
    }
   ],
   "source": [
    "covariance_types = ['full', 'tied', 'diag', 'spherical']\n",
    "n_components = np.arange(2,10)\n",
    "vars = ['sepal length (cm)', 'sepal width (cm)', 'petal length (cm)', 'petal width (cm)']\n",
    "\n",
    "def get_best_gmm(cov_types, n_components, X):\n",
    "    results = []\n",
    "    for cov in cov_types:\n",
    "        for n in n_components:\n",
    "            gmm = GaussianMixture(n_components=n, covariance_type=cov, random_state=None)\n",
    "            gmm.fit(X)\n",
    "            bic_score = gmm.bic(X)\n",
    "            results.append({'n':n, \"cov_type\":cov, \"bic\":bic_score})\n",
    "    df = pd.DataFrame(results)\n",
    "    best_combination = df[\"bic\"].idxmin()\n",
    "    df = df.loc[best_combination]\n",
    "    print(\"The best combination: \",df['n'],df['cov_type'] )\n",
    "    return df['n'],df['cov_type'] \n",
    "\n",
    "\n",
    "best_cluster, best_covariance = get_best_gmm(covariance_types, n_components, pdiris[vars] )\n"
   ]
  },
  {
   "cell_type": "markdown",
   "metadata": {},
   "source": [
    "### Activity 2\n",
    "Repeat the analysis using only two of the four variables. Do we get a different conclusion on the number of clusters? "
   ]
  },
  {
   "cell_type": "markdown",
   "metadata": {},
   "source": [
    "Put your code below"
   ]
  },
  {
   "cell_type": "code",
   "execution_count": 50,
   "metadata": {},
   "outputs": [
    {
     "name": "stdout",
     "output_type": "stream",
     "text": [
      "The best combination:  5 diag\n"
     ]
    }
   ],
   "source": [
    "vars = ['sepal width (cm)','petal width (cm)']\n",
    "\n",
    "best_cluster2, best_covariance2  = get_best_gmm(covariance_types, n_components, pdiris[vars] )\n",
    "\n"
   ]
  },
  {
   "cell_type": "markdown",
   "metadata": {},
   "source": [
    "### Simulate data to test the method\n",
    "\n",
    "So far we have been looking at a dataset where we are not sure about the 'true' number of clusters and type of covariance matrix.\n",
    "\n",
    "### Activity 3\n",
    "\n",
    "In following cell, simulate data from a Gaussian mixture with three components with the mean and covariance matrix as following.\n",
    "\n",
    "1\\. $mean = (0,0),\\quad cov=1I$,\n",
    "\n",
    "2\\. $mean = (-6,3),\\quad cov = 16I,$\n",
    "\n",
    "3\\. $mean = (3,-4),\\quad cov=9I$."
   ]
  },
  {
   "cell_type": "code",
   "execution_count": 52,
   "metadata": {},
   "outputs": [],
   "source": [
    "mean_1 = [0, 0]\n",
    "mean_2 = [-6, 3]\n",
    "mean_3 = [3, -4]\n",
    "cov_1 = [[1, 0], [0, 1]]\n",
    "cov_2 = [[16, 0], [0, 16]]\n",
    "cov_3 = [[9, 0], [0, 9]]       \n",
    "\n",
    "n_each = 100\n",
    "\n",
    "\n",
    "x1, y1 = np.random.multivariate_normal(mean_1, cov_1, n_each).T\n",
    "x2, y2 = np.random.multivariate_normal(mean_2, cov_2, n_each).T\n",
    "x3, y3 = np.random.multivariate_normal(mean_3, cov_3, n_each).T\n",
    "\n",
    "x = np.concatenate((x1, x2, x3), axis=None)\n",
    "y = np.concatenate((y1, y2, y3), axis=None)\n",
    "\n",
    "\n",
    "x = np.reshape(x, (-1,1))\n",
    "y = np.reshape(y, (-1,1))\n",
    "X = np.concatenate((x,y), axis = 1)"
   ]
  },
  {
   "cell_type": "markdown",
   "metadata": {},
   "source": [
    "### Test the method\n",
    "\n",
    "Below you will repeat the previous model search procedure to the synthetic data that you generated in the previous cell. We would like to test whether the optimal models will indeed be the one with three components and spherical covariance"
   ]
  },
  {
   "cell_type": "code",
   "execution_count": 54,
   "metadata": {},
   "outputs": [
    {
     "name": "stdout",
     "output_type": "stream",
     "text": [
      "The best combination:  3 spherical\n"
     ]
    }
   ],
   "source": [
    "X = np.array(X)\n",
    "best_cluster, best_covariance = get_best_gmm(covariance_types, n_components, X)\n"
   ]
  },
  {
   "cell_type": "markdown",
   "metadata": {},
   "source": [
    "### Activity 4\n",
    "\n",
    "Conduct another simulation experiment generating data from a Gaussian mixture. Choose your own number of components, means and covariances."
   ]
  },
  {
   "cell_type": "code",
   "execution_count": 56,
   "metadata": {},
   "outputs": [
    {
     "name": "stderr",
     "output_type": "stream",
     "text": [
      "C:\\Users\\Per_A\\AppData\\Local\\Temp/ipykernel_4692/1585371891.py:10: RuntimeWarning: covariance is not positive-semidefinite.\n",
      "  x1, y1 = np.random.multivariate_normal(mean_1, cov_1, n_each).T\n",
      "C:\\Users\\Per_A\\AppData\\Local\\Temp/ipykernel_4692/1585371891.py:11: RuntimeWarning: covariance is not positive-semidefinite.\n",
      "  x2, y2 = np.random.multivariate_normal(mean_2, cov_2, n_each).T\n",
      "C:\\Users\\Per_A\\AppData\\Local\\Temp/ipykernel_4692/1585371891.py:12: RuntimeWarning: covariance is not positive-semidefinite.\n",
      "  x3, y3 = np.random.multivariate_normal(mean_3, cov_3, n_each).T\n"
     ]
    },
    {
     "name": "stdout",
     "output_type": "stream",
     "text": [
      "The best combination:  3 diag\n"
     ]
    }
   ],
   "source": [
    "mean_1 = [6, 8]\n",
    "mean_2 = [6, 4]\n",
    "mean_3 = [3, -4]\n",
    "cov_1 = [[1, -10], [0, 1]]\n",
    "cov_2 = [[16, 10], [3, 16]]\n",
    "cov_3 = [[1, -3], [18, 9]]       \n",
    "\n",
    "n_each = 100\n",
    "\n",
    "x1, y1 = np.random.multivariate_normal(mean_1, cov_1, n_each).T\n",
    "x2, y2 = np.random.multivariate_normal(mean_2, cov_2, n_each).T\n",
    "x3, y3 = np.random.multivariate_normal(mean_3, cov_3, n_each).T\n",
    "\n",
    "x = np.concatenate((x1, x2, x3), axis=None)\n",
    "y = np.concatenate((y1, y2, y3), axis=None)\n",
    "\n",
    "\n",
    "x = np.reshape(x, (-1,1))\n",
    "y = np.reshape(y, (-1,1))\n",
    "X = np.concatenate((x,y), axis = 1)\n",
    "\n",
    "X = np.array(X)\n",
    "best_cluster, best_covariance = get_best_gmm(covariance_types, n_components, X)\n"
   ]
  },
  {
   "cell_type": "markdown",
   "metadata": {},
   "source": [
    "## Overfitted (Bayesian) Gaussian Mixtures\n",
    "\n",
    "Now we will explore what happens when we fit a model with more components than the ones in the data. "
   ]
  },
  {
   "cell_type": "code",
   "execution_count": 57,
   "metadata": {},
   "outputs": [
    {
     "data": {
      "text/html": [
       "<div>\n",
       "<style scoped>\n",
       "    .dataframe tbody tr th:only-of-type {\n",
       "        vertical-align: middle;\n",
       "    }\n",
       "\n",
       "    .dataframe tbody tr th {\n",
       "        vertical-align: top;\n",
       "    }\n",
       "\n",
       "    .dataframe thead th {\n",
       "        text-align: right;\n",
       "    }\n",
       "</style>\n",
       "<table border=\"1\" class=\"dataframe\">\n",
       "  <thead>\n",
       "    <tr style=\"text-align: right;\">\n",
       "      <th></th>\n",
       "      <th># of individuals</th>\n",
       "    </tr>\n",
       "  </thead>\n",
       "  <tbody>\n",
       "    <tr>\n",
       "      <th>1</th>\n",
       "      <td>100.0</td>\n",
       "    </tr>\n",
       "    <tr>\n",
       "      <th>2</th>\n",
       "      <td>200.0</td>\n",
       "    </tr>\n",
       "    <tr>\n",
       "      <th>3</th>\n",
       "      <td>97.0</td>\n",
       "    </tr>\n",
       "    <tr>\n",
       "      <th>4</th>\n",
       "      <td>30.0</td>\n",
       "    </tr>\n",
       "    <tr>\n",
       "      <th>5</th>\n",
       "      <td>117.0</td>\n",
       "    </tr>\n",
       "    <tr>\n",
       "      <th>6</th>\n",
       "      <td>55.0</td>\n",
       "    </tr>\n",
       "  </tbody>\n",
       "</table>\n",
       "</div>"
      ],
      "text/plain": [
       "   # of individuals\n",
       "1             100.0\n",
       "2             200.0\n",
       "3              97.0\n",
       "4              30.0\n",
       "5             117.0\n",
       "6              55.0"
      ]
     },
     "execution_count": 57,
     "metadata": {},
     "output_type": "execute_result"
    }
   ],
   "source": [
    "# Number of samples per component\n",
    "n_samples = 200\n",
    "X = np.r_[np.random.randn(n_samples, 2), \n",
    "          .4 * np.random.randn(n_samples, 2) + np.array([-6, 3]), \n",
    "         3* np.random.randn(n_samples, 2) + np.array([3, -4])] \n",
    "\n",
    "gmm = GaussianMixture(n_components=6,covariance_type='spherical')\n",
    "\n",
    "gmm.fit(X)\n",
    "probs = gmm.predict_proba(X)\n",
    "results = np.sum(probs,axis=0)\n",
    "results = pd.DataFrame(results.round(0), columns = ['# of individuals'], index=range(1,7))\n",
    "results"
   ]
  },
  {
   "cell_type": "code",
   "execution_count": 58,
   "metadata": {},
   "outputs": [
    {
     "data": {
      "text/plain": [
       "<matplotlib.collections.PathCollection at 0x16470629280>"
      ]
     },
     "execution_count": 58,
     "metadata": {},
     "output_type": "execute_result"
    },
    {
     "data": {
      "image/png": "[encoded data removed]",
      "text/plain": [
       "<Figure size 432x288 with 1 Axes>"
      ]
     },
     "metadata": {
      "needs_background": "light"
     },
     "output_type": "display_data"
    }
   ],
   "source": [
    "labels = gmm.predict(X)\n",
    "plt.scatter(X[:, 0], X[:, 1], c=labels) "
   ]
  },
  {
   "cell_type": "markdown",
   "metadata": {},
   "source": [
    "We will also apply the fully Bayesian model to the same data with a Dirichlet prior on the cluster probabilities with a low hyperparameter (weight_concentration_prior) of 0.01. This choice is going to penalise redundant clusters by not allocating individuals to them unless it is necessaray "
   ]
  },
  {
   "cell_type": "code",
   "execution_count": 59,
   "metadata": {},
   "outputs": [
    {
     "data": {
      "text/html": [
       "<div>\n",
       "<style scoped>\n",
       "    .dataframe tbody tr th:only-of-type {\n",
       "        vertical-align: middle;\n",
       "    }\n",
       "\n",
       "    .dataframe tbody tr th {\n",
       "        vertical-align: top;\n",
       "    }\n",
       "\n",
       "    .dataframe thead th {\n",
       "        text-align: right;\n",
       "    }\n",
       "</style>\n",
       "<table border=\"1\" class=\"dataframe\">\n",
       "  <thead>\n",
       "    <tr style=\"text-align: right;\">\n",
       "      <th></th>\n",
       "      <th># of individuals</th>\n",
       "    </tr>\n",
       "  </thead>\n",
       "  <tbody>\n",
       "    <tr>\n",
       "      <th>1</th>\n",
       "      <td>192.0</td>\n",
       "    </tr>\n",
       "    <tr>\n",
       "      <th>2</th>\n",
       "      <td>208.0</td>\n",
       "    </tr>\n",
       "    <tr>\n",
       "      <th>3</th>\n",
       "      <td>200.0</td>\n",
       "    </tr>\n",
       "    <tr>\n",
       "      <th>4</th>\n",
       "      <td>0.0</td>\n",
       "    </tr>\n",
       "    <tr>\n",
       "      <th>5</th>\n",
       "      <td>0.0</td>\n",
       "    </tr>\n",
       "    <tr>\n",
       "      <th>6</th>\n",
       "      <td>0.0</td>\n",
       "    </tr>\n",
       "  </tbody>\n",
       "</table>\n",
       "</div>"
      ],
      "text/plain": [
       "   # of individuals\n",
       "1             192.0\n",
       "2             208.0\n",
       "3             200.0\n",
       "4               0.0\n",
       "5               0.0\n",
       "6               0.0"
      ]
     },
     "execution_count": 59,
     "metadata": {},
     "output_type": "execute_result"
    }
   ],
   "source": [
    "Bgmm = BayesianGaussianMixture(n_components=6,covariance_type='full',\n",
    "                               weight_concentration_prior=0.01, max_iter = 200)\n",
    "Bgmm.fit(X)\n",
    "probs = Bgmm.predict_proba(X)\n",
    "results = np.sum(probs,axis=0)\n",
    "results = pd.DataFrame(results.round(0), columns = ['# of individuals'], index=range(1,7))\n",
    "results"
   ]
  },
  {
   "cell_type": "code",
   "execution_count": 60,
   "metadata": {},
   "outputs": [
    {
     "data": {
      "text/plain": [
       "<matplotlib.collections.PathCollection at 0x164706a0e20>"
      ]
     },
     "execution_count": 60,
     "metadata": {},
     "output_type": "execute_result"
    },
    {
     "data": {
      "image/png": "[encoded data removed]",
      "text/plain": [
       "<Figure size 432x288 with 1 Axes>"
      ]
     },
     "metadata": {
      "needs_background": "light"
     },
     "output_type": "display_data"
    }
   ],
   "source": [
    "labels = Bgmm.predict(X)\n",
    "plt.scatter(X[:, 0], X[:, 1], c=labels)"
   ]
  },
  {
   "cell_type": "markdown",
   "metadata": {},
   "source": [
    "### Activity 5\n",
    "\n",
    "Fit the fully Bayesian approach to the Iris dataset and check the resulting number of clusters. Put your code below."
   ]
  },
  {
   "cell_type": "code",
   "execution_count": 64,
   "metadata": {},
   "outputs": [
    {
     "data": {
      "text/html": [
       "<div>\n",
       "<style scoped>\n",
       "    .dataframe tbody tr th:only-of-type {\n",
       "        vertical-align: middle;\n",
       "    }\n",
       "\n",
       "    .dataframe tbody tr th {\n",
       "        vertical-align: top;\n",
       "    }\n",
       "\n",
       "    .dataframe thead th {\n",
       "        text-align: right;\n",
       "    }\n",
       "</style>\n",
       "<table border=\"1\" class=\"dataframe\">\n",
       "  <thead>\n",
       "    <tr style=\"text-align: right;\">\n",
       "      <th></th>\n",
       "      <th># of individuals</th>\n",
       "    </tr>\n",
       "  </thead>\n",
       "  <tbody>\n",
       "    <tr>\n",
       "      <th>0</th>\n",
       "      <td>63.0</td>\n",
       "    </tr>\n",
       "    <tr>\n",
       "      <th>1</th>\n",
       "      <td>50.0</td>\n",
       "    </tr>\n",
       "    <tr>\n",
       "      <th>2</th>\n",
       "      <td>0.0</td>\n",
       "    </tr>\n",
       "    <tr>\n",
       "      <th>3</th>\n",
       "      <td>27.0</td>\n",
       "    </tr>\n",
       "    <tr>\n",
       "      <th>4</th>\n",
       "      <td>7.0</td>\n",
       "    </tr>\n",
       "    <tr>\n",
       "      <th>5</th>\n",
       "      <td>0.0</td>\n",
       "    </tr>\n",
       "    <tr>\n",
       "      <th>6</th>\n",
       "      <td>0.0</td>\n",
       "    </tr>\n",
       "    <tr>\n",
       "      <th>7</th>\n",
       "      <td>2.0</td>\n",
       "    </tr>\n",
       "    <tr>\n",
       "      <th>8</th>\n",
       "      <td>0.0</td>\n",
       "    </tr>\n",
       "    <tr>\n",
       "      <th>9</th>\n",
       "      <td>0.0</td>\n",
       "    </tr>\n",
       "  </tbody>\n",
       "</table>\n",
       "</div>"
      ],
      "text/plain": [
       "   # of individuals\n",
       "0              63.0\n",
       "1              50.0\n",
       "2               0.0\n",
       "3              27.0\n",
       "4               7.0\n",
       "5               0.0\n",
       "6               0.0\n",
       "7               2.0\n",
       "8               0.0\n",
       "9               0.0"
      ]
     },
     "execution_count": 64,
     "metadata": {},
     "output_type": "execute_result"
    }
   ],
   "source": [
    "vars = ['sepal length (cm)', 'sepal width (cm)', 'petal length (cm)', 'petal width (cm)']\n",
    "X = pdiris[vars]\n",
    "results = []\n",
    "\n",
    "bgmm = BayesianGaussianMixture(\n",
    "            n_components=10, covariance_type=\"full\",  max_iter = 200, weight_concentration_prior=0.01, random_state=None)\n",
    "bgmm.fit(X)\n",
    "\n",
    "probs = bgmm.predict_proba(X)\n",
    "results = np.sum(probs,axis=0)\n",
    "results = pd.DataFrame(results.round(0), columns = ['# of individuals'])\n",
    "results"
   ]
  },
  {
   "cell_type": "markdown",
   "metadata": {},
   "source": [
    "## K-Means Clustering and PCA of Human Activity Recognition"
   ]
  },
  {
   "cell_type": "markdown",
   "metadata": {},
   "source": [
    "### Dataset info\n",
    "\n",
    "Human Activity Recognition database built from the recordings of 30 subjects performing activities of daily living (ADL) while carrying a waist-mounted smartphone with embedded inertial sensors. The experiments have been carried out with a group of 30 volunteers within an age bracket of 19-48 years. Each person performed six activities (*WALKING, WALKING_UPSTAIRS, WALKING_DOWNSTAIRS, SITTING, STANDING, LAYING*) wearing a smartphone (Samsung Galaxy S II) on the waist. Using its embedded accelerometer and gyroscope, we captured 3-axial linear acceleration and 3-axial angular velocity at a constant rate of 50Hz. The experiments have been video-recorded to label the data manually. "
   ]
  },
  {
   "cell_type": "code",
   "execution_count": 65,
   "metadata": {},
   "outputs": [],
   "source": [
    "Data = pd.read_csv('train.csv') "
   ]
  },
  {
   "cell_type": "code",
   "execution_count": 66,
   "metadata": {},
   "outputs": [
    {
     "data": {
      "text/html": [
       "<div>\n",
       "<style scoped>\n",
       "    .dataframe tbody tr th:only-of-type {\n",
       "        vertical-align: middle;\n",
       "    }\n",
       "\n",
       "    .dataframe tbody tr th {\n",
       "        vertical-align: top;\n",
       "    }\n",
       "\n",
       "    .dataframe thead th {\n",
       "        text-align: right;\n",
       "    }\n",
       "</style>\n",
       "<table border=\"1\" class=\"dataframe\">\n",
       "  <thead>\n",
       "    <tr style=\"text-align: right;\">\n",
       "      <th></th>\n",
       "      <th>rn</th>\n",
       "      <th>activity</th>\n",
       "      <th>tBodyAcc.mean.X</th>\n",
       "      <th>tBodyAcc.mean.Y</th>\n",
       "      <th>tBodyAcc.mean.Z</th>\n",
       "      <th>tBodyAcc.std.X</th>\n",
       "      <th>tBodyAcc.std.Y</th>\n",
       "      <th>tBodyAcc.std.Z</th>\n",
       "      <th>tBodyAcc.mad.X</th>\n",
       "      <th>tBodyAcc.mad.Y</th>\n",
       "      <th>...</th>\n",
       "      <th>fBodyBodyGyroJerkMag.meanFreq</th>\n",
       "      <th>fBodyBodyGyroJerkMag.skewness</th>\n",
       "      <th>fBodyBodyGyroJerkMag.kurtosis</th>\n",
       "      <th>angle.tBodyAccMean.gravity</th>\n",
       "      <th>angle.tBodyAccJerkMean.gravityMean</th>\n",
       "      <th>angle.tBodyGyroMean.gravityMean</th>\n",
       "      <th>angle.tBodyGyroJerkMean.gravityMean</th>\n",
       "      <th>angle.X.gravityMean</th>\n",
       "      <th>angle.Y.gravityMean</th>\n",
       "      <th>angle.Z.gravityMean</th>\n",
       "    </tr>\n",
       "  </thead>\n",
       "  <tbody>\n",
       "    <tr>\n",
       "      <th>1734</th>\n",
       "      <td>4944</td>\n",
       "      <td>SITTING</td>\n",
       "      <td>0.272</td>\n",
       "      <td>-0.00411</td>\n",
       "      <td>-0.125</td>\n",
       "      <td>-0.992</td>\n",
       "      <td>-0.940</td>\n",
       "      <td>-0.8980</td>\n",
       "      <td>-0.993</td>\n",
       "      <td>-0.948</td>\n",
       "      <td>...</td>\n",
       "      <td>-0.0943</td>\n",
       "      <td>-0.311</td>\n",
       "      <td>-0.671</td>\n",
       "      <td>0.03530</td>\n",
       "      <td>0.0214</td>\n",
       "      <td>-0.4110</td>\n",
       "      <td>0.108</td>\n",
       "      <td>-0.911</td>\n",
       "      <td>0.0443</td>\n",
       "      <td>0.0558</td>\n",
       "    </tr>\n",
       "    <tr>\n",
       "      <th>1152</th>\n",
       "      <td>3310</td>\n",
       "      <td>SITTING</td>\n",
       "      <td>0.279</td>\n",
       "      <td>-0.01520</td>\n",
       "      <td>-0.107</td>\n",
       "      <td>-0.998</td>\n",
       "      <td>-0.992</td>\n",
       "      <td>-0.9930</td>\n",
       "      <td>-0.998</td>\n",
       "      <td>-0.992</td>\n",
       "      <td>...</td>\n",
       "      <td>0.4460</td>\n",
       "      <td>-0.609</td>\n",
       "      <td>-0.862</td>\n",
       "      <td>-0.06650</td>\n",
       "      <td>-0.8290</td>\n",
       "      <td>0.2610</td>\n",
       "      <td>0.303</td>\n",
       "      <td>-0.637</td>\n",
       "      <td>0.1100</td>\n",
       "      <td>0.2800</td>\n",
       "    </tr>\n",
       "    <tr>\n",
       "      <th>2880</th>\n",
       "      <td>8240</td>\n",
       "      <td>WALKING_UPSTAIRS</td>\n",
       "      <td>0.300</td>\n",
       "      <td>-0.04720</td>\n",
       "      <td>-0.117</td>\n",
       "      <td>-0.236</td>\n",
       "      <td>-0.373</td>\n",
       "      <td>-0.0316</td>\n",
       "      <td>-0.250</td>\n",
       "      <td>-0.380</td>\n",
       "      <td>...</td>\n",
       "      <td>0.1380</td>\n",
       "      <td>-0.752</td>\n",
       "      <td>-0.945</td>\n",
       "      <td>-0.13200</td>\n",
       "      <td>-0.7600</td>\n",
       "      <td>-0.7140</td>\n",
       "      <td>-0.648</td>\n",
       "      <td>-0.580</td>\n",
       "      <td>0.0201</td>\n",
       "      <td>0.3090</td>\n",
       "    </tr>\n",
       "    <tr>\n",
       "      <th>2911</th>\n",
       "      <td>8336</td>\n",
       "      <td>LAYING</td>\n",
       "      <td>0.277</td>\n",
       "      <td>-0.02510</td>\n",
       "      <td>-0.112</td>\n",
       "      <td>-0.999</td>\n",
       "      <td>-0.988</td>\n",
       "      <td>-0.9910</td>\n",
       "      <td>-0.999</td>\n",
       "      <td>-0.989</td>\n",
       "      <td>...</td>\n",
       "      <td>0.4960</td>\n",
       "      <td>-0.617</td>\n",
       "      <td>-0.871</td>\n",
       "      <td>0.00314</td>\n",
       "      <td>0.6900</td>\n",
       "      <td>-0.0195</td>\n",
       "      <td>0.314</td>\n",
       "      <td>0.656</td>\n",
       "      <td>-0.0835</td>\n",
       "      <td>0.9700</td>\n",
       "    </tr>\n",
       "    <tr>\n",
       "      <th>2252</th>\n",
       "      <td>6413</td>\n",
       "      <td>WALKING_UPSTAIRS</td>\n",
       "      <td>0.179</td>\n",
       "      <td>-0.02900</td>\n",
       "      <td>-0.048</td>\n",
       "      <td>-0.292</td>\n",
       "      <td>-0.245</td>\n",
       "      <td>-0.2990</td>\n",
       "      <td>-0.414</td>\n",
       "      <td>-0.333</td>\n",
       "      <td>...</td>\n",
       "      <td>-0.1760</td>\n",
       "      <td>-0.163</td>\n",
       "      <td>-0.579</td>\n",
       "      <td>0.53900</td>\n",
       "      <td>0.4790</td>\n",
       "      <td>-0.9160</td>\n",
       "      <td>0.116</td>\n",
       "      <td>-0.600</td>\n",
       "      <td>0.3140</td>\n",
       "      <td>0.1910</td>\n",
       "    </tr>\n",
       "  </tbody>\n",
       "</table>\n",
       "<p>5 rows × 563 columns</p>\n",
       "</div>"
      ],
      "text/plain": [
       "        rn          activity  tBodyAcc.mean.X  tBodyAcc.mean.Y  \\\n",
       "1734  4944           SITTING            0.272         -0.00411   \n",
       "1152  3310           SITTING            0.279         -0.01520   \n",
       "2880  8240  WALKING_UPSTAIRS            0.300         -0.04720   \n",
       "2911  8336            LAYING            0.277         -0.02510   \n",
       "2252  6413  WALKING_UPSTAIRS            0.179         -0.02900   \n",
       "\n",
       "      tBodyAcc.mean.Z  tBodyAcc.std.X  tBodyAcc.std.Y  tBodyAcc.std.Z  \\\n",
       "1734           -0.125          -0.992          -0.940         -0.8980   \n",
       "1152           -0.107          -0.998          -0.992         -0.9930   \n",
       "2880           -0.117          -0.236          -0.373         -0.0316   \n",
       "2911           -0.112          -0.999          -0.988         -0.9910   \n",
       "2252           -0.048          -0.292          -0.245         -0.2990   \n",
       "\n",
       "      tBodyAcc.mad.X  tBodyAcc.mad.Y  ...  fBodyBodyGyroJerkMag.meanFreq  \\\n",
       "1734          -0.993          -0.948  ...                        -0.0943   \n",
       "1152          -0.998          -0.992  ...                         0.4460   \n",
       "2880          -0.250          -0.380  ...                         0.1380   \n",
       "2911          -0.999          -0.989  ...                         0.4960   \n",
       "2252          -0.414          -0.333  ...                        -0.1760   \n",
       "\n",
       "      fBodyBodyGyroJerkMag.skewness  fBodyBodyGyroJerkMag.kurtosis  \\\n",
       "1734                         -0.311                         -0.671   \n",
       "1152                         -0.609                         -0.862   \n",
       "2880                         -0.752                         -0.945   \n",
       "2911                         -0.617                         -0.871   \n",
       "2252                         -0.163                         -0.579   \n",
       "\n",
       "      angle.tBodyAccMean.gravity  angle.tBodyAccJerkMean.gravityMean  \\\n",
       "1734                     0.03530                              0.0214   \n",
       "1152                    -0.06650                             -0.8290   \n",
       "2880                    -0.13200                             -0.7600   \n",
       "2911                     0.00314                              0.6900   \n",
       "2252                     0.53900                              0.4790   \n",
       "\n",
       "      angle.tBodyGyroMean.gravityMean  angle.tBodyGyroJerkMean.gravityMean  \\\n",
       "1734                          -0.4110                                0.108   \n",
       "1152                           0.2610                                0.303   \n",
       "2880                          -0.7140                               -0.648   \n",
       "2911                          -0.0195                                0.314   \n",
       "2252                          -0.9160                                0.116   \n",
       "\n",
       "      angle.X.gravityMean  angle.Y.gravityMean  angle.Z.gravityMean  \n",
       "1734               -0.911               0.0443               0.0558  \n",
       "1152               -0.637               0.1100               0.2800  \n",
       "2880               -0.580               0.0201               0.3090  \n",
       "2911                0.656              -0.0835               0.9700  \n",
       "2252               -0.600               0.3140               0.1910  \n",
       "\n",
       "[5 rows x 563 columns]"
      ]
     },
     "execution_count": 66,
     "metadata": {},
     "output_type": "execute_result"
    }
   ],
   "source": [
    "Data.sample(5)"
   ]
  },
  {
   "cell_type": "code",
   "execution_count": 67,
   "metadata": {},
   "outputs": [
    {
     "name": "stdout",
     "output_type": "stream",
     "text": [
      "Shape of the data set: (3609, 563)\n"
     ]
    }
   ],
   "source": [
    "print('Shape of the data set: ' + str(Data.shape))"
   ]
  },
  {
   "cell_type": "code",
   "execution_count": 68,
   "metadata": {},
   "outputs": [
    {
     "name": "stdout",
     "output_type": "stream",
     "text": [
      "Activity labels: ['STANDING', 'SITTING', 'LAYING', 'WALKING', 'WALKING_DOWNSTAIRS', 'WALKING_UPSTAIRS']\n"
     ]
    }
   ],
   "source": [
    "#save labels as string\n",
    "Labels = Data['activity']\n",
    "Data = Data.drop(['rn', 'activity'], axis = 1)\n",
    "Labels_keys = Labels.unique().tolist()\n",
    "Labels = np.array(Labels)\n",
    "print('Activity labels: ' + str(Labels_keys))"
   ]
  },
  {
   "cell_type": "code",
   "execution_count": 69,
   "metadata": {},
   "outputs": [
    {
     "name": "stdout",
     "output_type": "stream",
     "text": [
      "Amount of rows with missing values: 0\n"
     ]
    }
   ],
   "source": [
    "#check for missing values\n",
    "Temp = pd.DataFrame(Data.isnull().sum())\n",
    "Temp.columns = ['Sum']\n",
    "print('Amount of rows with missing values: ' + str(len(Temp.index[Temp['Sum'] > 0])) )"
   ]
  },
  {
   "cell_type": "code",
   "execution_count": 70,
   "metadata": {},
   "outputs": [],
   "source": [
    "#normalize the dataset\n",
    "scaler = StandardScaler()\n",
    "Data = scaler.fit_transform(Data)"
   ]
  },
  {
   "cell_type": "markdown",
   "metadata": {},
   "source": [
    "### Activity 6\n",
    "\n",
    "Apply k-means clustering with different number of clusters and find the optimal number of clusters. Plot sum of squared distances of samples to their closest cluster center versus number of cluster. "
   ]
  },
  {
   "cell_type": "code",
   "execution_count": 101,
   "metadata": {},
   "outputs": [],
   "source": [
    "from sklearn.cluster import KMeans\n",
    "from sklearn.decomposition import PCA\n"
   ]
  },
  {
   "cell_type": "code",
   "execution_count": 102,
   "metadata": {},
   "outputs": [],
   "source": [
    "# for 1.. 10 clusters\n",
    "# # Init Kmeans med n cluster\n",
    "# # Fit Data to kmeans\n",
    "# # calculate Sum of square distiances for kmeans \n",
    "# Ta den med minst SSE score som den bästa\n",
    "# plotta graf med SSE distance / n_cluster\n",
    "list_sse = []\n",
    "for k in range(2,10):\n",
    "    kmeans = KMeans(n_clusters=k)\n",
    "    kmeans.fit(Data)\n",
    "    list_sse.append([n,kmeans.inertia_])\n",
    "np_sse = np.array(list_sse)\n"
   ]
  },
  {
   "cell_type": "code",
   "execution_count": 103,
   "metadata": {},
   "outputs": [
    {
     "data": {
      "image/png": "[encoded data removed]",
      "text/plain": [
       "<Figure size 432x288 with 1 Axes>"
      ]
     },
     "metadata": {
      "needs_background": "light"
     },
     "output_type": "display_data"
    }
   ],
   "source": [
    "plt.xlabel('k')\n",
    "plt.ylabel('Sum of squared distances')\n",
    "plt.title('Elbow Method For Optimal k')\n",
    "plt.plot(np_sse[:,0],np_sse[:,1])\n",
    "plt.show()\n"
   ]
  },
  {
   "cell_type": "markdown",
   "metadata": {},
   "source": [
    "### Activity 7\n",
    "\n",
    "Apply PCA and analyze principal components for dimensionality reduction."
   ]
  },
  {
   "cell_type": "code",
   "execution_count": 104,
   "metadata": {},
   "outputs": [
    {
     "name": "stdout",
     "output_type": "stream",
     "text": [
      "Shape of the data set: (3609, 561)\n",
      "Shape of the data set: (3609, 3)\n"
     ]
    }
   ],
   "source": [
    "pca = PCA(n_components=3).fit(Data)\n",
    "Data_pca = pca.transform(Data)\n",
    "X_pca = pca.inverse_transform(Data_pca)\n",
    "print('Shape of the data set: ' + str(Data.shape))\n",
    "print('Shape of the data set: ' + str(Data_pca.shape))"
   ]
  },
  {
   "cell_type": "markdown",
   "metadata": {},
   "source": [
    "### Activity 8\n",
    "\n",
    "Perform K-means clustering on the dimensionality-reduced data."
   ]
  },
  {
   "cell_type": "code",
   "execution_count": 105,
   "metadata": {},
   "outputs": [
    {
     "data": {
      "text/plain": [
       "<matplotlib.collections.PathCollection at 0x164709e5e80>"
      ]
     },
     "execution_count": 105,
     "metadata": {},
     "output_type": "execute_result"
    },
    {
     "data": {
      "image/png": "[encoded data removed]",
      "text/plain": [
       "<Figure size 432x288 with 1 Axes>"
      ]
     },
     "metadata": {
      "needs_background": "light"
     },
     "output_type": "display_data"
    }
   ],
   "source": [
    "kmeans = KMeans(n_clusters=3).fit(Data_pca)\n",
    "labels = kmeans.predict(Data_pca)\n",
    "plt.scatter(Data_pca[:, 0], Data_pca[:, 1], c=labels, s=40, cmap='viridis')\n",
    "plt.scatter(kmeans.cluster_centers_[:, 0], kmeans.cluster_centers_[:, 1], c='black', s=200, alpha=0.5)"
   ]
  }
 ],
 "metadata": {
  "kernelspec": {
   "display_name": "Python 3 (ipykernel)",
   "language": "python",
   "name": "python3"
  },
  "language_info": {
   "codemirror_mode": {
    "name": "ipython",
    "version": 3
   },
   "file_extension": ".py",
   "mimetype": "text/x-python",
   "name": "python",
   "nbconvert_exporter": "python",
   "pygments_lexer": "ipython3",
   "version": "3.9.7"
  }
 },
 "nbformat": 4,
 "nbformat_minor": 4
}
