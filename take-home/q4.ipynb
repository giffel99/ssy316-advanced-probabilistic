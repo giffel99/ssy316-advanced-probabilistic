{
 "cells": [
  {
   "cell_type": "code",
   "execution_count": 1,
   "metadata": {},
   "outputs": [],
   "source": [
    "from qwop import * \n",
    "import pandas as pd\n",
    "import numpy as np"
   ]
  },
  {
   "cell_type": "markdown",
   "metadata": {},
   "source": [
    "### Gradient descent"
   ]
  },
  {
   "cell_type": "code",
   "execution_count": null,
   "metadata": {},
   "outputs": [],
   "source": [
    "def cost_func(theta, penalty_factor=10):\n",
    "    dist = sim(theta)\n",
    "    cost = abs(dist) + max(0, -dist) * penalty_factor\n",
    "\n",
    "    return -cost\n",
    "    \n",
    "def calculate_gradient(theta, epsilon=1e-4):\n",
    "    gradient = np.zeros_like(theta)\n",
    "    for i in range(len(theta)):\n",
    "        theta_plus_epsilon = theta.copy()\n",
    "        theta_plus_epsilon[i] += epsilon\n",
    "        cost_plus_epsilon = sim(theta_plus_epsilon)\n",
    "\n",
    "        theta_minus_epsilon = theta.copy()\n",
    "        theta_minus_epsilon[i] -= epsilon\n",
    "        cost_minus_epsilon = sim(theta_minus_epsilon)\n",
    "\n",
    "        gradient[i] = (cost_plus_epsilon - cost_minus_epsilon) / (2 * epsilon)\n",
    "\n",
    "    return gradient\n",
    "\n",
    "def grad_thighs(theta, epsilon=1e-4):\n",
    "    gradient = np.zeros_like(theta)\n",
    "    for i in range(0, len(theta), 2):  \n",
    "        theta_plus_epsilon = theta.copy()\n",
    "        theta_plus_epsilon[i] += epsilon\n",
    "        cost_plus_epsilon = sim(theta_plus_epsilon)\n",
    "\n",
    "        theta_minus_epsilon = theta.copy()\n",
    "        theta_minus_epsilon[i] -= epsilon\n",
    "        cost_minus_epsilon = sim(theta_minus_epsilon)\n",
    "\n",
    "        gradient[i] = (cost_plus_epsilon - cost_minus_epsilon) / (2 * epsilon)\n",
    "\n",
    "    return gradient\n",
    "\n",
    "def grad_knees(theta, epsilon=1e-4):\n",
    "    gradient = np.zeros_like(theta)\n",
    "    for i in range(1, len(theta), 2): \n",
    "        theta_plus_epsilon = theta.copy()\n",
    "        theta_plus_epsilon[i] += epsilon\n",
    "        cost_plus_epsilon = sim(theta_plus_epsilon)\n",
    "\n",
    "        theta_minus_epsilon = theta.copy()\n",
    "        theta_minus_epsilon[i] -= epsilon\n",
    "        cost_minus_epsilon = sim(theta_minus_epsilon)\n",
    "\n",
    "        gradient[i] = (cost_plus_epsilon - cost_minus_epsilon) / (2 * epsilon)\n",
    "\n",
    "    return gradient\n"
   ]
  },
  {
   "cell_type": "code",
   "execution_count": null,
   "metadata": {},
   "outputs": [],
   "source": [
    "thetas = [random.uniform(-1, 1) for i in range(40)]"
   ]
  },
  {
   "cell_type": "code",
   "execution_count": 74,
   "metadata": {},
   "outputs": [],
   "source": [
    "#load best\n",
    "with open('q2_thetas/gradient_descent_best.csv', 'r') as f:\n",
    "    reader = csv.reader(f)\n",
    "    thetas = list(reader)\n",
    "\n",
    "thetas = np.array(thetas)\n",
    "thetas = thetas.reshape(-1)\n",
    "thetas = [float(x) for x in thetas ]"
   ]
  },
  {
   "cell_type": "code",
   "execution_count": null,
   "metadata": {},
   "outputs": [],
   "source": [
    "# Gradient decent with randomness\n",
    "#thetas = [random.uniform(-1, 1) for i in range(40)]\n",
    "thetas = [0 for i in range(40)]\n",
    "lr = 0.0001\n",
    "iterations = 200\n",
    "gradient = np.zeros_like(thetas)\n",
    "isThighs = True\n",
    "for i in range(iterations):\n",
    "\n",
    "    current_dist = sim(thetas)\n",
    "    print(\"-------\")\n",
    "    if(i % 10 == 0):\n",
    "        isThighs = not isThighs\n",
    "\n",
    "        print(f\"iteration: {i}, dist: {sim(thetas)} \")\n",
    "    \n",
    "    if(random.uniform(0, 1) >= 0.3):\n",
    "        print(\"random\")\n",
    "        thetas_copy = thetas.copy()\n",
    "        thetas_copy = thetas_copy + [random.uniform(-0.1, 0.1) for i in range(40)]\n",
    "        thetas_copy = np.clip(thetas_copy, -1, 1)\n",
    "\n",
    "        if(sim(thetas_copy) > sim(thetas)):\n",
    "            print(sim(thetas_copy))\n",
    "            print(sim(thetas))\n",
    "            print(\"random was better\")\n",
    "            thetas = thetas_copy.copy()\n",
    "    print(\"dist:\",sim(thetas))\n",
    "    #gradient = calculate_gradient(thetas)\n",
    "\n",
    "    if(isThighs):\n",
    "        gradient = grad_thighs(thetas)\n",
    "    else:\n",
    "        gradient = grad_knees(thetas)\n",
    "\n",
    "    thetas = thetas + lr * gradient\n",
    "    thetas = np.clip(thetas, -1, 1)\n",
    "\n",
    "print(\"final distance: \", sim(thetas))"
   ]
  },
  {
   "cell_type": "code",
   "execution_count": 76,
   "metadata": {},
   "outputs": [],
   "source": [
    "    \n",
    "def calculate_gradient(theta, epsilon=0.3):\n",
    "    gradient = np.zeros_like(theta)\n",
    "    for i in range(len(theta)):\n",
    "        theta_plus_epsilon = theta.copy()\n",
    "        theta_plus_epsilon[i] += epsilon\n",
    "        cost_plus_epsilon = sim(theta_plus_epsilon)\n",
    "\n",
    "        theta_minus_epsilon = theta.copy()\n",
    "        theta_minus_epsilon[i] -= epsilon\n",
    "        cost_minus_epsilon = sim(theta_minus_epsilon)\n",
    "\n",
    "        gradient[i] = (cost_plus_epsilon - cost_minus_epsilon) / (2 * epsilon)\n",
    "\n",
    "    return gradient\n",
    "\n",
    "def grad_thighs(theta, epsilon=0.4):\n",
    "    gradient = np.zeros_like(theta)\n",
    "    for i in range(0, len(theta), 2): \n",
    "        theta_plus_epsilon = theta.copy()\n",
    "        theta_plus_epsilon[i] += epsilon\n",
    "        cost_plus_epsilon = sim(theta_plus_epsilon)\n",
    "\n",
    "        theta_minus_epsilon = theta.copy()\n",
    "        theta_minus_epsilon[i] -= epsilon\n",
    "        cost_minus_epsilon = sim(theta_minus_epsilon)\n",
    "\n",
    "        gradient[i] = (cost_plus_epsilon - cost_minus_epsilon) / (2 * epsilon)\n",
    "\n",
    "    return gradient\n",
    "\n",
    "def grad_knees(theta, epsilon=0.4):\n",
    "    gradient = np.zeros_like(theta)\n",
    "    for i in range(1, len(theta), 2):\n",
    "        theta_plus_epsilon = theta.copy()\n",
    "        theta_plus_epsilon[i] += epsilon\n",
    "        cost_plus_epsilon = sim(theta_plus_epsilon)\n",
    "\n",
    "        theta_minus_epsilon = theta.copy()\n",
    "        theta_minus_epsilon[i] -= epsilon\n",
    "        cost_minus_epsilon = sim(theta_minus_epsilon)\n",
    "\n",
    "        gradient[i] = (cost_plus_epsilon - cost_minus_epsilon) / (2 * epsilon)\n",
    "\n",
    "    return gradient\n",
    "\n"
   ]
  },
  {
   "cell_type": "code",
   "execution_count": 77,
   "metadata": {},
   "outputs": [],
   "source": [
    "def update_best_gradient(gradient,gradient_t,gradient_k, lr, thetas):\n",
    "    gradient_random = np.random.uniform(-0.05, 0.05, size=len(thetas))\n",
    "    dist = sim(thetas + lr * gradient)\n",
    "    dist_t = sim(thetas + lr * gradient_t)\n",
    "    dist_k = sim(thetas + lr * gradient_k)\n",
    "    dist_random = sim(thetas + lr * gradient_random)\n",
    "    best_index = np.argmax([dist,dist_t,dist_k])   \n",
    "    \n",
    "    if(dist_random > np.max([dist,dist_t,dist_k]) and np.random.uniform(0, 1) > 0.7):\n",
    "        print(\"random jump\")\n",
    "        return gradient_random    \n",
    "        \n",
    "    if(best_index == 0):\n",
    "        #print(\"all\")\n",
    "        return gradient\n",
    "    if(best_index == 1):\n",
    "        #print(\"thigh\")\n",
    "        return gradient_t\n",
    "    if(best_index == 2):\n",
    "        #print(\"knee\")\n",
    "        return gradient_k\n",
    "  \n"
   ]
  },
  {
   "cell_type": "code",
   "execution_count": 79,
   "metadata": {},
   "outputs": [
    {
     "name": "stdout",
     "output_type": "stream",
     "text": [
      "-------\n",
      "iteration: 0, dist: 6.856278701058169 \n",
      "-------\n",
      "iteration: 5, dist: 6.85634350763969 \n",
      "random jump\n",
      "-------\n",
      "iteration: 10, dist: 6.864755246498812 \n",
      "-------\n",
      "iteration: 15, dist: 6.864145786062188 \n",
      "random jump\n",
      "-------\n",
      "iteration: 20, dist: 6.887270119194547 \n",
      "-------\n",
      "iteration: 25, dist: 6.828904301036827 \n",
      "-------\n",
      "iteration: 30, dist: 6.934889772522286 \n",
      "random jump\n",
      "-------\n",
      "iteration: 35, dist: 6.945430717509023 \n",
      "random jump\n",
      "-------\n",
      "iteration: 40, dist: 6.838329323710739 \n",
      "-------\n",
      "iteration: 45, dist: 6.8384565399749775 \n",
      "-------\n",
      "iteration: 50, dist: 6.991556463541177 \n",
      "random jump\n",
      "-------\n",
      "iteration: 55, dist: 6.941569974834353 \n",
      "random jump\n",
      "random jump\n",
      "-------\n",
      "iteration: 60, dist: 6.897529111109912 \n",
      "random jump\n",
      "-------\n",
      "iteration: 65, dist: 6.8853441184528545 \n",
      "random jump\n",
      "-------\n",
      "iteration: 70, dist: 6.85213270609257 \n",
      "-------\n",
      "iteration: 75, dist: 6.840202693387968 \n",
      "random jump\n",
      "-------\n",
      "iteration: 80, dist: 6.841895144403835 \n",
      "-------\n",
      "iteration: 85, dist: 6.842314082292305 \n",
      "-------\n",
      "iteration: 90, dist: 6.843813654849666 \n",
      "-------\n",
      "iteration: 95, dist: 6.845068268300818 \n",
      "final distance:  6.845801155726817\n"
     ]
    }
   ],
   "source": [
    "# Varying knee or thigh\n",
    "#thetas = [random.uniform(-1, 1) for i in range(40)]\n",
    "#thetas = [0 for i in range(40)]\n",
    "lr = 0.01\n",
    "iterations = 100\n",
    "gradient = np.zeros_like(thetas)\n",
    "gradient_thigh = np.zeros_like(thetas)\n",
    "gradient_knee = np.zeros_like(thetas)\n",
    "for i in range(iterations):\n",
    "\n",
    "    current_dist = sim(thetas)\n",
    "    if(i % 5 == 0):    \n",
    "        print(\"-------\")\n",
    "        print(f\"iteration: {i}, dist: {sim(thetas)} \")\n",
    "  \n",
    "\n",
    "    gradient_thigh = grad_thighs(thetas)\n",
    "    gradient_knee = grad_knees(thetas)\n",
    "    gradient = calculate_gradient(thetas)\n",
    "    best_gradient = update_best_gradient(gradient,gradient_thigh,gradient_knee, lr, thetas)\n",
    "   \n",
    "    thetas = thetas + lr * best_gradient\n",
    "    thetas = np.clip(thetas, -1, 1)\n",
    "\n",
    "print(\"final distance: \", sim(thetas))"
   ]
  },
  {
   "cell_type": "code",
   "execution_count": 3,
   "metadata": {},
   "outputs": [
    {
     "ename": "NameError",
     "evalue": "name 'thetas' is not defined",
     "output_type": "error",
     "traceback": [
      "\u001b[1;31m---------------------------------------------------------------------------\u001b[0m",
      "\u001b[1;31mNameError\u001b[0m                                 Traceback (most recent call last)",
      "\u001b[1;32m~\\AppData\\Local\\Temp/ipykernel_57748/2290499156.py\u001b[0m in \u001b[0;36m<module>\u001b[1;34m\u001b[0m\n\u001b[1;32m----> 1\u001b[1;33m \u001b[0mdf\u001b[0m \u001b[1;33m=\u001b[0m \u001b[0mpd\u001b[0m\u001b[1;33m.\u001b[0m\u001b[0mDataFrame\u001b[0m\u001b[1;33m(\u001b[0m\u001b[0mthetas\u001b[0m\u001b[1;33m)\u001b[0m\u001b[1;33m\u001b[0m\u001b[1;33m\u001b[0m\u001b[0m\n\u001b[0m\u001b[0;32m      2\u001b[0m \u001b[0mdf\u001b[0m\u001b[1;33m.\u001b[0m\u001b[0mto_csv\u001b[0m\u001b[1;33m(\u001b[0m\u001b[1;34m\"q2_thetas/gradient_descent_best.csv\"\u001b[0m\u001b[1;33m,\u001b[0m \u001b[0mindex\u001b[0m\u001b[1;33m=\u001b[0m\u001b[1;32mFalse\u001b[0m\u001b[1;33m)\u001b[0m\u001b[1;33m\u001b[0m\u001b[1;33m\u001b[0m\u001b[0m\n",
      "\u001b[1;31mNameError\u001b[0m: name 'thetas' is not defined"
     ]
    }
   ],
   "source": [
    "df = pd.DataFrame(thetas)\n",
    "df.to_csv(\"q2_thetas/gradient_descent_best.csv\", index=False)\n"
   ]
  },
  {
   "cell_type": "markdown",
   "metadata": {},
   "source": [
    "### Metropolis Hastings"
   ]
  },
  {
   "cell_type": "code",
   "execution_count": 6,
   "metadata": {},
   "outputs": [],
   "source": [
    "#load best MCMC\n",
    "samples = []\n",
    "\n",
    "with open('q2_thetas/mcmc_best.csv', 'r') as f:\n",
    "    reader = csv.reader(f)\n",
    "    thetas = list(reader)\n",
    "\n",
    "thetas = np.array(thetas)\n",
    "thetas = thetas.reshape(-1)\n",
    "thetas = [float(x) for x in thetas ]\n",
    "samples.append(thetas)"
   ]
  },
  {
   "cell_type": "code",
   "execution_count": 67,
   "metadata": {},
   "outputs": [
    {
     "data": {
      "text/plain": [
       "5.767524590576367"
      ]
     },
     "execution_count": 67,
     "metadata": {},
     "output_type": "execute_result"
    }
   ],
   "source": [
    "sim(samples[-1])"
   ]
  },
  {
   "cell_type": "code",
   "execution_count": 68,
   "metadata": {},
   "outputs": [],
   "source": [
    "def likelihood(params):\n",
    "    return sim(params)\n",
    "  \n",
    "def prior(params):\n",
    "    if all(-1 <= p <= 1 for p in params):\n",
    "        return 0.0  \n",
    "    else:\n",
    "        return -1000\n",
    "\n",
    "def posterior(params):\n",
    "    return likelihood(params) + prior(params)\n",
    "\n",
    "def metropolis_hastings(initial_parameters, num_samples):\n",
    "    current_parameters = initial_parameters\n",
    "    samples = [current_parameters]\n",
    "\n",
    "    for i in range(num_samples):\n",
    "\n",
    "        if(i % (num_samples/10) == 0):\n",
    "            print(f'iteration {i} with score {sim(current_parameters)}')\n",
    "\n",
    "        proposal_parameters = current_parameters + np.random.normal(-0.1, 0.1, size=len(initial_parameters))  \n",
    "        acceptance_ratio = np.exp(posterior(proposal_parameters) - posterior(current_parameters))\n",
    "\n",
    "        if 1 < acceptance_ratio:\n",
    "            current_parameters = proposal_parameters\n",
    "\n",
    "        samples.append(current_parameters)\n",
    "    return np.array(samples)\n"
   ]
  },
  {
   "cell_type": "code",
   "execution_count": 69,
   "metadata": {},
   "outputs": [],
   "source": [
    "initial_parameters = np.random.uniform(-1, 1, size=40)"
   ]
  },
  {
   "cell_type": "code",
   "execution_count": 70,
   "metadata": {},
   "outputs": [
    {
     "ename": "ValueError",
     "evalue": "The truth value of an array with more than one element is ambiguous. Use a.any() or a.all()",
     "output_type": "error",
     "traceback": [
      "\u001b[1;31m---------------------------------------------------------------------------\u001b[0m",
      "\u001b[1;31mValueError\u001b[0m                                Traceback (most recent call last)",
      "\u001b[1;32m~\\AppData\\Local\\Temp/ipykernel_57748/1158757859.py\u001b[0m in \u001b[0;36m<module>\u001b[1;34m\u001b[0m\n\u001b[0;32m      1\u001b[0m \u001b[0mnum_samples\u001b[0m \u001b[1;33m=\u001b[0m \u001b[1;36m10000\u001b[0m\u001b[1;33m\u001b[0m\u001b[1;33m\u001b[0m\u001b[0m\n\u001b[1;32m----> 2\u001b[1;33m \u001b[0msamples\u001b[0m \u001b[1;33m=\u001b[0m \u001b[0mmetropolis_hastings\u001b[0m\u001b[1;33m(\u001b[0m\u001b[0msamples\u001b[0m\u001b[1;33m,\u001b[0m \u001b[0mnum_samples\u001b[0m\u001b[1;33m)\u001b[0m\u001b[1;33m\u001b[0m\u001b[1;33m\u001b[0m\u001b[0m\n\u001b[0m",
      "\u001b[1;32m~\\AppData\\Local\\Temp/ipykernel_57748/1967797569.py\u001b[0m in \u001b[0;36mmetropolis_hastings\u001b[1;34m(initial_parameters, num_samples)\u001b[0m\n\u001b[0;32m     18\u001b[0m \u001b[1;33m\u001b[0m\u001b[0m\n\u001b[0;32m     19\u001b[0m         \u001b[1;32mif\u001b[0m\u001b[1;33m(\u001b[0m\u001b[0mi\u001b[0m \u001b[1;33m%\u001b[0m \u001b[1;33m(\u001b[0m\u001b[0mnum_samples\u001b[0m\u001b[1;33m/\u001b[0m\u001b[1;36m10\u001b[0m\u001b[1;33m)\u001b[0m \u001b[1;33m==\u001b[0m \u001b[1;36m0\u001b[0m\u001b[1;33m)\u001b[0m\u001b[1;33m:\u001b[0m\u001b[1;33m\u001b[0m\u001b[1;33m\u001b[0m\u001b[0m\n\u001b[1;32m---> 20\u001b[1;33m             \u001b[0mprint\u001b[0m\u001b[1;33m(\u001b[0m\u001b[1;34mf'iteration {i} with score {sim(current_parameters)}'\u001b[0m\u001b[1;33m)\u001b[0m\u001b[1;33m\u001b[0m\u001b[1;33m\u001b[0m\u001b[0m\n\u001b[0m\u001b[0;32m     21\u001b[0m \u001b[1;33m\u001b[0m\u001b[0m\n\u001b[0;32m     22\u001b[0m         \u001b[0mproposal_parameters\u001b[0m \u001b[1;33m=\u001b[0m \u001b[0mcurrent_parameters\u001b[0m \u001b[1;33m+\u001b[0m \u001b[0mnp\u001b[0m\u001b[1;33m.\u001b[0m\u001b[0mrandom\u001b[0m\u001b[1;33m.\u001b[0m\u001b[0mnormal\u001b[0m\u001b[1;33m(\u001b[0m\u001b[1;33m-\u001b[0m\u001b[1;36m0.1\u001b[0m\u001b[1;33m,\u001b[0m \u001b[1;36m0.1\u001b[0m\u001b[1;33m,\u001b[0m \u001b[0msize\u001b[0m\u001b[1;33m=\u001b[0m\u001b[0mlen\u001b[0m\u001b[1;33m(\u001b[0m\u001b[0minitial_parameters\u001b[0m\u001b[1;33m)\u001b[0m\u001b[1;33m)\u001b[0m\u001b[1;33m\u001b[0m\u001b[1;33m\u001b[0m\u001b[0m\n",
      "\u001b[1;32mc:\\Users\\Per_A\\Documents\\ssy316\\ssy316-advanced-probabilistic\\take-home\\qwop.py\u001b[0m in \u001b[0;36msim\u001b[1;34m(plan)\u001b[0m\n\u001b[0;32m     17\u001b[0m \u001b[1;32mdef\u001b[0m \u001b[0msim\u001b[0m\u001b[1;33m(\u001b[0m\u001b[0mplan\u001b[0m\u001b[1;33m)\u001b[0m\u001b[1;33m:\u001b[0m\u001b[1;33m\u001b[0m\u001b[1;33m\u001b[0m\u001b[0m\n\u001b[0;32m     18\u001b[0m     \u001b[1;32mfor\u001b[0m \u001b[0mi\u001b[0m \u001b[1;32min\u001b[0m \u001b[0mrange\u001b[0m\u001b[1;33m(\u001b[0m\u001b[1;36m0\u001b[0m\u001b[1;33m,\u001b[0m \u001b[0mlen\u001b[0m\u001b[1;33m(\u001b[0m\u001b[0mplan\u001b[0m\u001b[1;33m)\u001b[0m\u001b[1;33m)\u001b[0m\u001b[1;33m:\u001b[0m\u001b[1;33m\u001b[0m\u001b[1;33m\u001b[0m\u001b[0m\n\u001b[1;32m---> 19\u001b[1;33m         \u001b[1;32mif\u001b[0m \u001b[0mplan\u001b[0m\u001b[1;33m[\u001b[0m\u001b[0mi\u001b[0m\u001b[1;33m]\u001b[0m \u001b[1;33m>\u001b[0m \u001b[1;36m1\u001b[0m\u001b[1;33m:\u001b[0m\u001b[1;33m\u001b[0m\u001b[1;33m\u001b[0m\u001b[0m\n\u001b[0m\u001b[0;32m     20\u001b[0m             \u001b[0mplan\u001b[0m\u001b[1;33m[\u001b[0m\u001b[0mi\u001b[0m\u001b[1;33m]\u001b[0m \u001b[1;33m=\u001b[0m \u001b[1;36m1.0\u001b[0m\u001b[1;33m\u001b[0m\u001b[1;33m\u001b[0m\u001b[0m\n\u001b[0;32m     21\u001b[0m         \u001b[1;32melif\u001b[0m \u001b[0mplan\u001b[0m\u001b[1;33m[\u001b[0m\u001b[0mi\u001b[0m\u001b[1;33m]\u001b[0m \u001b[1;33m<\u001b[0m \u001b[1;33m-\u001b[0m\u001b[1;36m1\u001b[0m\u001b[1;33m:\u001b[0m\u001b[1;33m\u001b[0m\u001b[1;33m\u001b[0m\u001b[0m\n",
      "\u001b[1;31mValueError\u001b[0m: The truth value of an array with more than one element is ambiguous. Use a.any() or a.all()"
     ]
    }
   ],
   "source": [
    "num_samples = 10000\n",
    "samples = metropolis_hastings(samples[-1], num_samples)"
   ]
  },
  {
   "cell_type": "code",
   "execution_count": 61,
   "metadata": {},
   "outputs": [
    {
     "data": {
      "text/plain": [
       "6.369825371646391"
      ]
     },
     "execution_count": 61,
     "metadata": {},
     "output_type": "execute_result"
    }
   ],
   "source": [
    "sim(samples[-1])"
   ]
  },
  {
   "cell_type": "code",
   "execution_count": 63,
   "metadata": {},
   "outputs": [],
   "source": [
    "df = pd.DataFrame(samples[-1])\n",
    "df.to_csv(\"q4_thetas/mcmc_best.csv\", index=False)"
   ]
  }
 ],
 "metadata": {
  "kernelspec": {
   "display_name": "base",
   "language": "python",
   "name": "python3"
  },
  "language_info": {
   "codemirror_mode": {
    "name": "ipython",
    "version": 3
   },
   "file_extension": ".py",
   "mimetype": "text/x-python",
   "name": "python",
   "nbconvert_exporter": "python",
   "pygments_lexer": "ipython3",
   "version": "3.9.7"
  }
 },
 "nbformat": 4,
 "nbformat_minor": 2
}
